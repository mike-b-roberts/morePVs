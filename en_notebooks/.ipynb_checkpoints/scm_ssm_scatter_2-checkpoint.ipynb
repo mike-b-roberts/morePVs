{
 "cells": [
  {
   "cell_type": "code",
   "execution_count": 28,
   "metadata": {},
   "outputs": [],
   "source": [
    "import morePVs_output as opm"
   ]
  },
  {
   "cell_type": "code",
   "execution_count": 32,
   "metadata": {},
   "outputs": [],
   "source": [
    "project='pv_optimiser'\n",
    "study_name='pv_optimiser3'\n",
    "base_path='C:\\\\Users\\\\z5044992\\\\Documents\\\\MainDATA\\\\DATA_EN_3\\\\studies'\n",
    "op = opm.Output(base_path = base_path,\n",
    "                          project = project,\n",
    "                          study_name = study_name)"
   ]
  },
  {
   "cell_type": "code",
   "execution_count": 33,
   "metadata": {},
   "outputs": [],
   "source": [
    "df = self.data.copy() # results\n",
    "df_in = self.study_scenarios.copy() # input parameters\n",
    "\n",
    "sites = ['A', 'B', 'C', 'D', 'E', 'F', 'G', 'H', 'I', 'J']\n",
    "values = [1, 2, 3, 4, 5, 6, 7, 8, 9, 10]\n",
    "dict_sites = dict(zip(sites, values))\n",
    "\n",
    "# Set up df for data\n",
    "# ------------------\n",
    "dfo = pd.DataFrame()\n",
    "\n",
    "\n",
    "# Load data from each scenario\n",
    "scenario_path = os.path.join(self.project_path, 'outputs', study_name, 'scenarios')\n",
    "scenario_list = os.listdir(scenario_path)"
   ]
  },
  {
   "cell_type": "code",
   "execution_count": 69,
   "metadata": {},
   "outputs": [],
   "source": [
    "i = df.index[0]\n",
    "scenario_file = os.path.join(scenario_path,df.loc[i,'scenario_label']+'.csv')\n",
    "dfs = pd.read_csv(scenario_file)\n",
    "dfs = dfs.set_index(dfs.columns[0])"
   ]
  },
  {
   "cell_type": "code",
   "execution_count": 70,
   "metadata": {},
   "outputs": [],
   "source": [
    "dfs['s'] = dfs.index.str[-8]"
   ]
  },
  {
   "cell_type": "code",
   "execution_count": 73,
   "metadata": {},
   "outputs": [],
   "source": [
    "dfs['kWp'] = df_in.loc[s, 'pv_kW_peak']\n",
    "dfs['kWp/unit'] = dfs['kWp'] / df.loc[i, 'number_of_households']\n",
    "dfs['colour'] = dfs['s'].apply(lambda x: dict_sites[x])"
   ]
  },
  {
   "cell_type": "code",
   "execution_count": 78,
   "metadata": {},
   "outputs": [],
   "source": [
    "for vb in dfs.index:\n",
    "    dfs.loc[vb, 'self-sufficiency'] = (dfs.loc[vb, 'total_building_load']\n",
    "                                              - dfs.loc[vb, 'import_kWh']) / dfs.loc[\n",
    "                                                 vb, 'total_building_load'] * 100"
   ]
  },
  {
   "cell_type": "code",
   "execution_count": 82,
   "metadata": {},
   "outputs": [],
   "source": [
    "dfs = dfs[['s','kWp','kWp/unit','colour', 'self-consumption','self-sufficiency']]"
   ]
  },
  {
   "cell_type": "code",
   "execution_count": 83,
   "metadata": {},
   "outputs": [
    {
     "data": {
      "text/html": [
       "<div>\n",
       "<style scoped>\n",
       "    .dataframe tbody tr th:only-of-type {\n",
       "        vertical-align: middle;\n",
       "    }\n",
       "\n",
       "    .dataframe tbody tr th {\n",
       "        vertical-align: top;\n",
       "    }\n",
       "\n",
       "    .dataframe thead th {\n",
       "        text-align: right;\n",
       "    }\n",
       "</style>\n",
       "<table border=\"1\" class=\"dataframe\">\n",
       "  <thead>\n",
       "    <tr style=\"text-align: right;\">\n",
       "      <th></th>\n",
       "      <th>s</th>\n",
       "      <th>kWp</th>\n",
       "      <th>kWp/unit</th>\n",
       "      <th>colour</th>\n",
       "      <th>self-consumption</th>\n",
       "      <th>self-sufficiency</th>\n",
       "    </tr>\n",
       "    <tr>\n",
       "      <th>Unnamed: 0</th>\n",
       "      <th></th>\n",
       "      <th></th>\n",
       "      <th></th>\n",
       "      <th></th>\n",
       "      <th></th>\n",
       "      <th></th>\n",
       "    </tr>\n",
       "  </thead>\n",
       "  <tbody>\n",
       "    <tr>\n",
       "      <th>vb_site_h_all_site_A_01.csv</th>\n",
       "      <td>A</td>\n",
       "      <td>47.25</td>\n",
       "      <td>0.227163</td>\n",
       "      <td>1</td>\n",
       "      <td>100.0</td>\n",
       "      <td>6.146881</td>\n",
       "    </tr>\n",
       "    <tr>\n",
       "      <th>vb_site_h_all_site_A_02.csv</th>\n",
       "      <td>A</td>\n",
       "      <td>47.25</td>\n",
       "      <td>0.227163</td>\n",
       "      <td>1</td>\n",
       "      <td>100.0</td>\n",
       "      <td>5.673064</td>\n",
       "    </tr>\n",
       "    <tr>\n",
       "      <th>vb_site_h_all_site_A_03.csv</th>\n",
       "      <td>A</td>\n",
       "      <td>47.25</td>\n",
       "      <td>0.227163</td>\n",
       "      <td>1</td>\n",
       "      <td>100.0</td>\n",
       "      <td>5.817940</td>\n",
       "    </tr>\n",
       "    <tr>\n",
       "      <th>vb_site_h_all_site_A_04.csv</th>\n",
       "      <td>A</td>\n",
       "      <td>47.25</td>\n",
       "      <td>0.227163</td>\n",
       "      <td>1</td>\n",
       "      <td>100.0</td>\n",
       "      <td>5.745640</td>\n",
       "    </tr>\n",
       "    <tr>\n",
       "      <th>vb_site_h_all_site_A_05.csv</th>\n",
       "      <td>A</td>\n",
       "      <td>47.25</td>\n",
       "      <td>0.227163</td>\n",
       "      <td>1</td>\n",
       "      <td>100.0</td>\n",
       "      <td>5.679653</td>\n",
       "    </tr>\n",
       "  </tbody>\n",
       "</table>\n",
       "</div>"
      ],
      "text/plain": [
       "                             s    kWp  kWp/unit  colour  self-consumption  \\\n",
       "Unnamed: 0                                                                  \n",
       "vb_site_h_all_site_A_01.csv  A  47.25  0.227163       1             100.0   \n",
       "vb_site_h_all_site_A_02.csv  A  47.25  0.227163       1             100.0   \n",
       "vb_site_h_all_site_A_03.csv  A  47.25  0.227163       1             100.0   \n",
       "vb_site_h_all_site_A_04.csv  A  47.25  0.227163       1             100.0   \n",
       "vb_site_h_all_site_A_05.csv  A  47.25  0.227163       1             100.0   \n",
       "\n",
       "                             self-sufficiency  \n",
       "Unnamed: 0                                     \n",
       "vb_site_h_all_site_A_01.csv          6.146881  \n",
       "vb_site_h_all_site_A_02.csv          5.673064  \n",
       "vb_site_h_all_site_A_03.csv          5.817940  \n",
       "vb_site_h_all_site_A_04.csv          5.745640  \n",
       "vb_site_h_all_site_A_05.csv          5.679653  "
      ]
     },
     "execution_count": 83,
     "metadata": {},
     "output_type": "execute_result"
    }
   ],
   "source": [
    "dfs.head()"
   ]
  },
  {
   "cell_type": "code",
   "execution_count": 88,
   "metadata": {},
   "outputs": [],
   "source": [
    "dfo = dfo.append(dfs)"
   ]
  },
  {
   "cell_type": "code",
   "execution_count": null,
   "metadata": {},
   "outputs": [],
   "source": []
  }
 ],
 "metadata": {
  "kernelspec": {
   "display_name": "Python 3",
   "language": "python",
   "name": "python3"
  },
  "language_info": {
   "codemirror_mode": {
    "name": "ipython",
    "version": 3
   },
   "file_extension": ".py",
   "mimetype": "text/x-python",
   "name": "python",
   "nbconvert_exporter": "python",
   "pygments_lexer": "ipython3",
   "version": "3.6.2"
  }
 },
 "nbformat": 4,
 "nbformat_minor": 1
}

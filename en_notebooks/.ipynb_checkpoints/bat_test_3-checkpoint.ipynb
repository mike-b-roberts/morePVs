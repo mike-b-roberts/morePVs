{
 "cells": [
  {
   "cell_type": "markdown",
   "metadata": {
    "collapsed": true
   },
   "source": [
    "4/4/18  __Test Battery & Solar Tariffs__\n",
    "__1) Battery test__\n",
    "\n",
    "* Use 2-3 day profile\n",
    "* Look at time-step output\n",
    "* Look at capex etc\n"
   ]
  },
  {
   "cell_type": "code",
   "execution_count": null,
   "metadata": {},
   "outputs": [],
   "source": [
    "import morePVs\n",
    "import pandas as pd\n",
    "import numpy as np\n",
    "import morePVs_output\n",
    "import os\n",
    "import matplotlib as mpl\n",
    "import matplotlib.pyplot as plt\n",
    "import en_utilities as util "
   ]
  },
  {
   "cell_type": "markdown",
   "metadata": {},
   "source": [
    "__First__, Run with all battery contraol strategies and all arrangements\n",
    "Check plots and chaeck that non- en are not screwed up by battery modules"
   ]
  },
  {
   "cell_type": "code",
   "execution_count": null,
   "metadata": {},
   "outputs": [],
   "source": [
    "base_path = 'C:\\\\Users\\\\z5044992\\\\Documents\\\\MainDATA\\\\DATA_EN_3'\n",
    "project='P_testing'\n",
    "study_name = 'test_bat3'\n",
    "morePVs.main(project=project,\n",
    "        study_name=study_name,\n",
    "        base_path =base_path)"
   ]
  },
  {
   "cell_type": "code",
   "execution_count": null,
   "metadata": {},
   "outputs": [],
   "source": [
    "path = 'C:\\\\Users\\\\z5044992\\\\Documents\\\\MainDATA\\\\DATA_EN_3\\\\p_testing\\\\outputs\\\\test_bat3\\\\timeseries'\n",
    "plotpath=os.path.join(path,'plots')\n",
    "if not os.path.exists(plotpath):\n",
    "    os.makedirs(plotpath)\n",
    "flist = [ f for f in os.listdir(path) if '.csv' in f]\n",
    "for name in flist:\n",
    "    file = os.path.join(path,name)\n",
    "    plotfile = os.path.join(plotpath,name[0:-3]+'png')\n",
    "    df = pd.read_csv(file)\n",
    "    if 'battery_charge_kWh' in df.columns:\n",
    "        df=df.drop(['battery_charge_kWh'],axis=1)\n",
    "    plt.figure()\n",
    "    ax = df[[c for c in df.columns if 'SOC' not in c]].plot()\n",
    "    leg = ax.legend(fancybox=True)\n",
    "    leg.get_frame().set_alpha(0.5)\n",
    "    ax.set_xlabel(\"Time\", fontsize=14)\n",
    "    ax.set_ylabel(\"kWh\", fontsize=14)\n",
    "    \n",
    "    if 'battery_SOC' in df.columns:\n",
    "        ax2=df['battery_SOC'].plot(secondary_y=True,ax=ax,style='--')   \n",
    "        ax2.set_ylabel(\"Battery SOC %\")\n",
    "\n",
    "    ax.set_title (name[:-4],fontsize=14)\n",
    "    #plt.show()\n",
    "    plt.savefig(plotfile, dpi=1000)\n",
    "    plt.close()"
   ]
  },
  {
   "cell_type": "markdown",
   "metadata": {},
   "source": [
    "__The above is now saved as `en_utilities.plot_battery()`__"
   ]
  },
  {
   "cell_type": "code",
   "execution_count": null,
   "metadata": {},
   "outputs": [],
   "source": [
    "util.plot_battery(project='p_testing', study_name = 'test_bat3')"
   ]
  },
  {
   "cell_type": "code",
   "execution_count": null,
   "metadata": {},
   "outputs": [],
   "source": [
    "#df =df.set_index('timestamp')\n",
    "ts=df.index\n",
    "bs = df.index\n",
    "len(ts.append(bs)),len(ts)"
   ]
  },
  {
   "cell_type": "code",
   "execution_count": null,
   "metadata": {},
   "outputs": [],
   "source": [
    "u = ts.union(bs)"
   ]
  },
  {
   "cell_type": "code",
   "execution_count": null,
   "metadata": {},
   "outputs": [],
   "source": [
    "len(u)"
   ]
  },
  {
   "cell_type": "code",
   "execution_count": null,
   "metadata": {},
   "outputs": [],
   "source": []
  }
 ],
 "metadata": {
  "kernelspec": {
   "display_name": "Python 3",
   "language": "python",
   "name": "python3"
  },
  "language_info": {
   "codemirror_mode": {
    "name": "ipython",
    "version": 3
   },
   "file_extension": ".py",
   "mimetype": "text/x-python",
   "name": "python",
   "nbconvert_exporter": "python",
   "pygments_lexer": "ipython3",
   "version": "3.6.2"
  }
 },
 "nbformat": 4,
 "nbformat_minor": 1
}

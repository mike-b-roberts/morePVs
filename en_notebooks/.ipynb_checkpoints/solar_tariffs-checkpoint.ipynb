{
 "cells": [
  {
   "cell_type": "code",
   "execution_count": 1,
   "metadata": {},
   "outputs": [
    {
     "ename": "ValueError",
     "evalue": "too many values to unpack (expected 2)",
     "output_type": "error",
     "traceback": [
      "\u001b[0;31m---------------------------------------------------------------------------\u001b[0m",
      "\u001b[0;31mValueError\u001b[0m                                Traceback (most recent call last)",
      "\u001b[0;32m<ipython-input-1-b8f72e24e49d>\u001b[0m in \u001b[0;36m<module>\u001b[0;34m()\u001b[0m\n\u001b[1;32m      8\u001b[0m                              \u001b[0;34m'name_8'\u001b[0m\u001b[0;34m:\u001b[0m \u001b[0;34m[\u001b[0m\u001b[0;34m'rate_8'\u001b[0m\u001b[0;34m,\u001b[0m \u001b[0;34m'start_8'\u001b[0m\u001b[0;34m,\u001b[0m \u001b[0;34m'end_8'\u001b[0m\u001b[0;34m,\u001b[0m \u001b[0;34m'week_8'\u001b[0m\u001b[0;34m]\u001b[0m\u001b[0;34m,\u001b[0m\u001b[0;34m\u001b[0m\u001b[0m\n\u001b[1;32m      9\u001b[0m                              }\n\u001b[0;32m---> 10\u001b[0;31m \u001b[0;32mfor\u001b[0m \u001b[0mname\u001b[0m\u001b[0;34m,\u001b[0m \u001b[0mparameter\u001b[0m \u001b[0;32min\u001b[0m \u001b[0miter\u001b[0m\u001b[0;34m(\u001b[0m\u001b[0mtou_rate_list\u001b[0m\u001b[0;34m)\u001b[0m\u001b[0;34m:\u001b[0m\u001b[0;34m\u001b[0m\u001b[0m\n\u001b[0m\u001b[1;32m     11\u001b[0m     \u001b[0mprint\u001b[0m\u001b[0;34m(\u001b[0m\u001b[0mname\u001b[0m\u001b[0;34m,\u001b[0m \u001b[0mparameter\u001b[0m\u001b[0;34m)\u001b[0m\u001b[0;34m\u001b[0m\u001b[0m\n",
      "\u001b[0;31mValueError\u001b[0m: too many values to unpack (expected 2)"
     ]
    }
   ],
   "source": [
    "tou_rate_list = {'name_1': ['rate_1','start_1','end_1','week_1'],\n",
    "                             'name_2': ['rate_2', 'start_2', 'end_2', 'week_2'],\n",
    "                             'name_3': ['rate_3', 'start_3', 'end_3', 'week_3'],\n",
    "                             'name_4': ['rate_4', 'start_4', 'end_4', 'week_4'],\n",
    "                             'name_5': ['rate_5', 'start_5', 'end_5', 'week_5'],\n",
    "                             'name_6': ['rate_6', 'start_6', 'end_6', 'week_6'],\n",
    "                             'name_7': ['rate_7', 'start_7', 'end_7', 'week_7'],\n",
    "                             'name_8': ['rate_8', 'start_8', 'end_8', 'week_8'],\n",
    "                             }\n",
    "for name, parameter in iter(tou_rate_list):\n",
    "    print(name, parameter)"
   ]
  },
  {
   "cell_type": "code",
   "execution_count": null,
   "metadata": {},
   "outputs": [],
   "source": []
  }
 ],
 "metadata": {
  "kernelspec": {
   "display_name": "Python 3",
   "language": "python",
   "name": "python3"
  },
  "language_info": {
   "codemirror_mode": {
    "name": "ipython",
    "version": 3
   },
   "file_extension": ".py",
   "mimetype": "text/x-python",
   "name": "python",
   "nbconvert_exporter": "python",
   "pygments_lexer": "ipython3",
   "version": "3.6.2"
  }
 },
 "nbformat": 4,
 "nbformat_minor": 1
}

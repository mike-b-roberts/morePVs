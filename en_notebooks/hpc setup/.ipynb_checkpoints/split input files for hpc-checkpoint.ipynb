{
 "cells": [
  {
   "cell_type": "code",
   "execution_count": 1,
   "metadata": {},
   "outputs": [],
   "source": [
    "import os\n",
    "import en_utilities as um\n",
    "import pandas as pd\n",
    "import shutil\n",
    "import numpy as np\n",
    "import csv"
   ]
  },
  {
   "cell_type": "code",
   "execution_count": 2,
   "metadata": {},
   "outputs": [],
   "source": [
    "project='EN1a_pv_bat4'\n",
    "study  = 'example2'\n",
    "base_path='C:\\\\Users\\\\z5044992\\\\Documents\\\\MainDATA\\\\DATA_EN_3\\\\studies'\n",
    "i_path =os.path.join(base_path,project,'inputs')\n",
    "i_name='study_'+study+'.csv'\n",
    "i_file = os.path.join(i_path,i_name)\n",
    "o_path = os.path.join(i_path,'for_hpc_'+study)\n",
    "if not os.path.exists (o_path):\n",
    "    os.makedirs(o_path)\n",
    "df= pd.read_csv(i_file)\n",
    "df = df.set_index('scenario')"
   ]
  },
  {
   "cell_type": "code",
   "execution_count": 3,
   "metadata": {},
   "outputs": [],
   "source": [
    "maxjobs = 100"
   ]
  },
  {
   "cell_type": "code",
   "execution_count": 4,
   "metadata": {},
   "outputs": [],
   "source": [
    "length = len(df)\n",
    "num_jobs = min(length, maxjobs)\n",
    "joblength = {}\n",
    "for job in np.arange (num_jobs):\n",
    "    if job <= round((length/num_jobs - int(length/num_jobs))*num_jobs)-1:\n",
    "        joblength[job] = round(length/num_jobs +0.5)\n",
    "    else:\n",
    "        joblength[job] = int(length/num_jobs)\n",
    "df1 = df.copy()\n",
    "csv_list=[]\n",
    "for job in np.arange (num_jobs):\n",
    "    dfn = pd.DataFrame(df1.iloc[0:joblength[job]],columns=df1.columns)\n",
    "    df1 = df1.iloc[joblength[job]:]\n",
    "    o_name = 'study_'+study+'_hpc'+ str(job)+'.csv'\n",
    "    csv_list += [o_name]\n",
    "    o_file = os.path.join(o_path,o_name)\n",
    "    dfn.to_csv(o_file)"
   ]
  },
  {
   "cell_type": "code",
   "execution_count": 5,
   "metadata": {},
   "outputs": [],
   "source": [
    "# Create bash files\n",
    "bash_path = os.path.join(i_path,'bash_'+study)\n",
    "if not os.path.exists (bash_path):\n",
    "    os.makedirs(bash_path)\n",
    "for csv_name in csv_list:\n",
    "    # \n",
    "    bash_content = pd.Series([\n",
    "    '#!/bin/bash',\n",
    "    '#SBATCH --mail-user=m.roberts@unsw.edu.au',\n",
    "    '#SBATCH --mail-type=ALL',\n",
    "    '#SBATCH --time=12:00:00',\n",
    "    '#SBATCH --ntasks=1',\n",
    "    '#SBATCH --cpus-per-task=4',\n",
    "    '#SBATCH --mem=8192',\n",
    "    '#SBATCH --output \"/home/z5044992/InputOutput/DATA_EN_3/slurm/slurm-%j.out\"',\n",
    "    'module load python/3.6',\n",
    "    'source /home/z5044992/python_venv/bin/activate',\n",
    "    'python morePVs.py -b /home/z5044992/InputOutput/DATA_EN_3 -p '+ 'for_hpc_'+study+' -s '+ csv_name + ' -t False',\n",
    "    'deactivate',\n",
    "    'module unload python/3.6'\n",
    "    ]).apply(lambda x: x.replace('\\r\\n', '\\n'))\n",
    "    # nb replace unix line ending\n",
    "    bash_name = 'f'+ um.find_between(csv_name,'hpc','.csv') + '.bat'\n",
    "    bash_file = os.path.join(bash_path, bash_name)\n",
    "    pd.DataFrame(bash_content).to_csv(bash_file, index=False,header=False,\n",
    "                                      quoting=csv.QUOTE_NONE, line_terminator ='\\n')\n"
   ]
  },
  {
   "cell_type": "code",
   "execution_count": 6,
   "metadata": {},
   "outputs": [
    {
     "data": {
      "text/plain": [
       "0                                           #!/bin/bash\n",
       "1             #SBATCH --mail-user=m.roberts@unsw.edu.au\n",
       "2                               #SBATCH --mail-type=ALL\n",
       "3                               #SBATCH --time=12:00:00\n",
       "4                                    #SBATCH --ntasks=1\n",
       "5                             #SBATCH --cpus-per-task=4\n",
       "6                                    #SBATCH --mem=8192\n",
       "7     #SBATCH --output \"/home/z5044992/InputOutput/D...\n",
       "8                                module load python/3.6\n",
       "9        source /home/z5044992/python_venv/bin/activate\n",
       "10    python morePVs.py -b /home/z5044992/InputOutpu...\n",
       "11                                           deactivate\n",
       "12                             module unload python/3.6\n",
       "dtype: object"
      ]
     },
     "execution_count": 6,
     "metadata": {},
     "output_type": "execute_result"
    }
   ],
   "source": [
    "bash_content.apply(lambda x: x.replace('\\r\\n', '\\n'))\n"
   ]
  },
  {
   "cell_type": "code",
   "execution_count": 7,
   "metadata": {},
   "outputs": [
    {
     "ename": "NameError",
     "evalue": "name 'o' is not defined",
     "output_type": "error",
     "traceback": [
      "\u001b[1;31m---------------------------------------------------------------------------\u001b[0m",
      "\u001b[1;31mNameError\u001b[0m                                 Traceback (most recent call last)",
      "\u001b[1;32m<ipython-input-7-059a881a34ae>\u001b[0m in \u001b[0;36m<module>\u001b[1;34m()\u001b[0m\n\u001b[1;32m----> 1\u001b[1;33m \u001b[0mf\u001b[0m \u001b[1;33m=\u001b[0m \u001b[1;34m'#SBATCH --output '\u001b[0m\u001b[1;33m+\u001b[0m \u001b[0mo\u001b[0m\u001b[1;33m\u001b[0m\u001b[0m\n\u001b[0m",
      "\u001b[1;31mNameError\u001b[0m: name 'o' is not defined"
     ]
    }
   ],
   "source": [
    "f = '#SBATCH --output '+ o"
   ]
  },
  {
   "cell_type": "code",
   "execution_count": null,
   "metadata": {},
   "outputs": [],
   "source": [
    "f"
   ]
  },
  {
   "cell_type": "code",
   "execution_count": null,
   "metadata": {},
   "outputs": [],
   "source": []
  }
 ],
 "metadata": {
  "kernelspec": {
   "display_name": "Python 3",
   "language": "python",
   "name": "python3"
  },
  "language_info": {
   "codemirror_mode": {
    "name": "ipython",
    "version": 3
   },
   "file_extension": ".py",
   "mimetype": "text/x-python",
   "name": "python",
   "nbconvert_exporter": "python",
   "pygments_lexer": "ipython3",
   "version": "3.6.5"
  }
 },
 "nbformat": 4,
 "nbformat_minor": 1
}

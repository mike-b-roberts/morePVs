{
 "cells": [
  {
   "cell_type": "code",
   "execution_count": 7,
   "metadata": {},
   "outputs": [],
   "source": [
    "import morePVs_output as opm\n",
    "import morePVs as mpv\n",
    "import os\n",
    "import en_utilities as um\n",
    "import pandas as pd\n",
    "import numpy as np\n",
    "import matplotlib as mpl\n",
    "import matplotlib.pyplot as plt"
   ]
  },
  {
   "cell_type": "code",
   "execution_count": 8,
   "metadata": {},
   "outputs": [],
   "source": [
    "project='EN1_pv_bat1'\n",
    "study_name='combined_siteJ_bat4'\n",
    "base_path='C:\\\\Users\\\\z5044992\\\\Documents\\\\MainDATA\\\\DATA_EN_3\\\\studies'\n",
    "op = opm.Output(base_path = base_path,\n",
    "                          project = project,\n",
    "                          study_name = study_name)\n",
    "self=op"
   ]
  },
  {
   "cell_type": "code",
   "execution_count": 9,
   "metadata": {},
   "outputs": [],
   "source": [
    "df = self.data.copy() # results\n",
    "df_in = self.study_parameters.copy() # input parameters\n",
    "\n",
    "sites = ['A', 'B', 'C', 'D', 'E', 'F', 'G', 'H', 'I', 'J']\n",
    "values = [1, 2, 3, 4, 5, 6, 7, 8, 9, 10]\n",
    "dict_sites = dict(zip(sites, values))\n",
    "\n",
    "# Set up df for data\n",
    "# ------------------\n",
    "dfo = pd.DataFrame()\n",
    "\n",
    "\n",
    "# Load data from each scenario\n",
    "scenario_path = os.path.join(self.project_path, 'outputs', study_name, 'scenarios')\n",
    "scenario_list = os.listdir(scenario_path)"
   ]
  },
  {
   "cell_type": "code",
   "execution_count": null,
   "metadata": {},
   "outputs": [],
   "source": [
    "s = df.index[0]\n",
    "scenario_file = os.path.join(scenario_path,df.loc[s,'scenario_label']+'.csv')\n",
    "dfs = pd.read_csv(scenario_file)"
   ]
  },
  {
   "cell_type": "code",
   "execution_count": null,
   "metadata": {},
   "outputs": [],
   "source": [
    "dfs.columns"
   ]
  },
  {
   "cell_type": "code",
   "execution_count": null,
   "metadata": {},
   "outputs": [],
   "source": [
    "dfs['s'] = df.index.apply(lambda x : x[-6])"
   ]
  },
  {
   "cell_type": "code",
   "execution_count": null,
   "metadata": {},
   "outputs": [],
   "source": [
    "dfs = dfs.set_index([0])\n",
    "dfs.head()"
   ]
  },
  {
   "cell_type": "code",
   "execution_count": null,
   "metadata": {},
   "outputs": [],
   "source": []
  }
 ],
 "metadata": {
  "kernelspec": {
   "display_name": "Python 3",
   "language": "python",
   "name": "python3"
  },
  "language_info": {
   "codemirror_mode": {
    "name": "ipython",
    "version": 3
   },
   "file_extension": ".py",
   "mimetype": "text/x-python",
   "name": "python",
   "nbconvert_exporter": "python",
   "pygments_lexer": "ipython3",
   "version": "3.6.5"
  }
 },
 "nbformat": 4,
 "nbformat_minor": 1
}

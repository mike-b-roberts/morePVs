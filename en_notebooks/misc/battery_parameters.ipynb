{
 "cells": [
  {
   "cell_type": "code",
   "execution_count": null,
   "metadata": {},
   "outputs": [],
   "source": [
    "import numpy as np\n",
    "import pandas as pd\n",
    "import morePVs"
   ]
  },
  {
   "cell_type": "code",
   "execution_count": 2,
   "metadata": {},
   "outputs": [],
   "source": [
    "project='p_testing'\n",
    "study_name='test7'\n",
    "base_path='C:\\\\Users\\\\z5044992\\\\Documents\\\\MainDATA\\\\DATA_EN_3'\n",
    "st = morePVs.Study (base_path = base_path,\n",
    "                    project = project,\n",
    "                    study_name = study_name)"
   ]
  },
  {
   "cell_type": "code",
   "execution_count": 3,
   "metadata": {},
   "outputs": [],
   "source": [
    "scenario_name = st.scenario_list[1]"
   ]
  },
  {
   "cell_type": "code",
   "execution_count": 4,
   "metadata": {},
   "outputs": [],
   "source": [
    "scenario = morePVs.Scenario(study=st,scenario_name=scenario_name)"
   ]
  },
  {
   "cell_type": "code",
   "execution_count": 5,
   "metadata": {},
   "outputs": [],
   "source": [
    "battery_id=scenario.battery_id"
   ]
  },
  {
   "cell_type": "code",
   "execution_count": 6,
   "metadata": {},
   "outputs": [
    {
     "data": {
      "text/plain": [
       "True"
      ]
     },
     "execution_count": 6,
     "metadata": {},
     "output_type": "execute_result"
    }
   ],
   "source": [
    "scenario.has_battery"
   ]
  },
  {
   "cell_type": "code",
   "execution_count": 7,
   "metadata": {},
   "outputs": [],
   "source": [
    "bat = morePVs.Battery(st,scenario.battery_id)"
   ]
  },
  {
   "cell_type": "code",
   "execution_count": 8,
   "metadata": {},
   "outputs": [
    {
     "data": {
      "text/html": [
       "<div>\n",
       "<style scoped>\n",
       "    .dataframe tbody tr th:only-of-type {\n",
       "        vertical-align: middle;\n",
       "    }\n",
       "\n",
       "    .dataframe tbody tr th {\n",
       "        vertical-align: top;\n",
       "    }\n",
       "\n",
       "    .dataframe thead th {\n",
       "        text-align: right;\n",
       "    }\n",
       "</style>\n",
       "<table border=\"1\" class=\"dataframe\">\n",
       "  <thead>\n",
       "    <tr style=\"text-align: right;\">\n",
       "      <th></th>\n",
       "      <th>capacity_kWh</th>\n",
       "      <th>cycle_kW</th>\n",
       "      <th>efficiency_cycle</th>\n",
       "      <th>maxDOD</th>\n",
       "      <th>maxSOC</th>\n",
       "      <th>max_cycles</th>\n",
       "      <th>capex</th>\n",
       "      <th>discharge_start</th>\n",
       "      <th>discharge_end</th>\n",
       "      <th>discharge_day</th>\n",
       "      <th>charge_start</th>\n",
       "      <th>charge_end</th>\n",
       "      <th>charge_day</th>\n",
       "    </tr>\n",
       "    <tr>\n",
       "      <th>battery_id</th>\n",
       "      <th></th>\n",
       "      <th></th>\n",
       "      <th></th>\n",
       "      <th></th>\n",
       "      <th></th>\n",
       "      <th></th>\n",
       "      <th></th>\n",
       "      <th></th>\n",
       "      <th></th>\n",
       "      <th></th>\n",
       "      <th></th>\n",
       "      <th></th>\n",
       "      <th></th>\n",
       "    </tr>\n",
       "  </thead>\n",
       "  <tbody>\n",
       "    <tr>\n",
       "      <th>bat001</th>\n",
       "      <td>50</td>\n",
       "      <td>20</td>\n",
       "      <td>0.8</td>\n",
       "      <td>0.8</td>\n",
       "      <td>0.9</td>\n",
       "      <td>1000</td>\n",
       "      <td>50000</td>\n",
       "      <td>18:00</td>\n",
       "      <td>20:00</td>\n",
       "      <td>both</td>\n",
       "      <td>NaN</td>\n",
       "      <td>NaN</td>\n",
       "      <td>both</td>\n",
       "    </tr>\n",
       "  </tbody>\n",
       "</table>\n",
       "</div>"
      ],
      "text/plain": [
       "            capacity_kWh  cycle_kW  efficiency_cycle  maxDOD  maxSOC  \\\n",
       "battery_id                                                             \n",
       "bat001                50        20               0.8     0.8     0.9   \n",
       "\n",
       "            max_cycles  capex discharge_start discharge_end discharge_day  \\\n",
       "battery_id                                                                  \n",
       "bat001            1000  50000           18:00         20:00          both   \n",
       "\n",
       "            charge_start  charge_end charge_day  \n",
       "battery_id                                       \n",
       "bat001               NaN         NaN       both  "
      ]
     },
     "execution_count": 8,
     "metadata": {},
     "output_type": "execute_result"
    }
   ],
   "source": [
    "st.battery_lookup"
   ]
  },
  {
   "cell_type": "code",
   "execution_count": 9,
   "metadata": {},
   "outputs": [
    {
     "data": {
      "text/plain": [
       "50"
      ]
     },
     "execution_count": 9,
     "metadata": {},
     "output_type": "execute_result"
    }
   ],
   "source": [
    "st.battery_lookup.loc[battery_id, 'capacity_kWh']"
   ]
  },
  {
   "cell_type": "code",
   "execution_count": 10,
   "metadata": {},
   "outputs": [],
   "source": [
    "discharge_start= st.battery_lookup.loc[battery_id, 'discharge_start']\n",
    "discharge_end= st.battery_lookup.loc[battery_id, 'discharge_end']\n",
    "discharge_day = st.battery_lookup.loc[battery_id, 'discharge_day']"
   ]
  },
  {
   "cell_type": "code",
   "execution_count": 12,
   "metadata": {},
   "outputs": [
    {
     "ename": "AttributeError",
     "evalue": "'Battery' object has no attribute 'charge_period'",
     "traceback": [
      "\u001b[1;31m---------------------------------------------------------------------------\u001b[0m",
      "\u001b[1;31mAttributeError\u001b[0m                            Traceback (most recent call last)",
      "\u001b[1;32m<ipython-input-12-9715221ff233>\u001b[0m in \u001b[0;36m<module>\u001b[1;34m()\u001b[0m\n\u001b[1;32m----> 1\u001b[1;33m \u001b[0mbat\u001b[0m\u001b[1;33m.\u001b[0m\u001b[0mcharge_period\u001b[0m\u001b[1;33m\u001b[0m\u001b[0m\n\u001b[0m",
      "\u001b[1;31mAttributeError\u001b[0m: 'Battery' object has no attribute 'charge_period'"
     ],
     "output_type": "error"
    }
   ],
   "source": [
    "bat.charge_period"
   ]
  },
  {
   "cell_type": "code",
   "execution_count": null,
   "metadata": {},
   "outputs": [],
   "source": [
    "st.ts.days[discharge_day][(st.ts.days[discharge_day].time >= pd.Timestamp(discharge_start).time())\n",
    "                    & (st.ts.days[discharge_day].time <= pd.Timestamp(discharge_end).time())]"
   ]
  },
  {
   "cell_type": "code",
   "execution_count": 22,
   "metadata": {},
   "outputs": [
    {
     "data": {
      "text/plain": [
       "DatetimeIndex([], dtype='datetime64[ns]', name='timestamp', freq=None)"
      ]
     },
     "execution_count": 22,
     "metadata": {},
     "output_type": "execute_result"
    }
   ],
   "source": [
    "st.ts.timeseries[st.ts.timeseries.day == 99]\n"
   ]
  },
  {
   "cell_type": "code",
   "execution_count": 24,
   "metadata": {},
   "outputs": [],
   "source": [
    "e = pd.DatetimeIndex([])"
   ]
  },
  {
   "cell_type": "code",
   "execution_count": 27,
   "metadata": {},
   "outputs": [
    {
     "data": {
      "text/plain": [
       "50"
      ]
     },
     "execution_count": 27,
     "metadata": {},
     "output_type": "execute_result"
    }
   ],
   "source": [
    "bat.capacity_kWh"
   ]
  },
  {
   "cell_type": "code",
   "execution_count": 31,
   "metadata": {},
   "outputs": [],
   "source": [
    "charge_kW = st.battery_lookup.loc[battery_id, 'charge_start']"
   ]
  },
  {
   "cell_type": "code",
   "execution_count": 32,
   "metadata": {},
   "outputs": [
    {
     "data": {
      "text/plain": [
       "nan"
      ]
     },
     "execution_count": 32,
     "metadata": {},
     "output_type": "execute_result"
    }
   ],
   "source": [
    "charge_kW"
   ]
  },
  {
   "cell_type": "code",
   "execution_count": 33,
   "metadata": {},
   "outputs": [
    {
     "data": {
      "text/plain": [
       "True"
      ]
     },
     "execution_count": 33,
     "metadata": {},
     "output_type": "execute_result"
    }
   ],
   "source": [
    "pd.isnull(charge_kW)"
   ]
  },
  {
   "cell_type": "code",
   "execution_count": 37,
   "metadata": {},
   "outputs": [
    {
     "data": {
      "text/plain": [
       "True"
      ]
     },
     "execution_count": 37,
     "metadata": {},
     "output_type": "execute_result"
    }
   ],
   "source": [
    "st.ts.timeseries[0] in st.ts.timeseries"
   ]
  },
  {
   "cell_type": "markdown",
   "metadata": {},
   "source": [
    "__Testing Shortert timeseries__\n"
   ]
  },
  {
   "cell_type": "code",
   "execution_count": 43,
   "metadata": {},
   "outputs": [],
   "source": [
    "load = pd.read_csv('C:\\\\Users\\\\z5044992\\\\Documents\\\\MainDATA\\DATA_EN_3\\\\load_profiles\\\\2day_loads\\\\profile_2days.csv')"
   ]
  },
  {
   "cell_type": "code",
   "execution_count": 47,
   "metadata": {},
   "outputs": [
    {
     "data": {
      "text/plain": [
       "17520"
      ]
     },
     "execution_count": 47,
     "metadata": {},
     "output_type": "execute_result"
    }
   ],
   "source": [
    "timeseries = load.index\n",
    "num_steps = len(timeseries)\n",
    "num_steps"
   ]
  },
  {
   "cell_type": "code",
   "execution_count": 48,
   "metadata": {},
   "outputs": [
    {
     "data": {
      "text/html": [
       "<div>\n",
       "<style scoped>\n",
       "    .dataframe tbody tr th:only-of-type {\n",
       "        vertical-align: middle;\n",
       "    }\n",
       "\n",
       "    .dataframe tbody tr th {\n",
       "        vertical-align: top;\n",
       "    }\n",
       "\n",
       "    .dataframe thead th {\n",
       "        text-align: right;\n",
       "    }\n",
       "</style>\n",
       "<table border=\"1\" class=\"dataframe\">\n",
       "  <thead>\n",
       "    <tr style=\"text-align: right;\">\n",
       "      <th></th>\n",
       "      <th>timestamp</th>\n",
       "      <th>cp</th>\n",
       "      <th>1</th>\n",
       "      <th>2</th>\n",
       "    </tr>\n",
       "  </thead>\n",
       "  <tbody>\n",
       "    <tr>\n",
       "      <th>0</th>\n",
       "      <td>1/01/2013 0:00</td>\n",
       "      <td>19.30</td>\n",
       "      <td>0.106</td>\n",
       "      <td>0.102</td>\n",
       "    </tr>\n",
       "    <tr>\n",
       "      <th>1</th>\n",
       "      <td>1/01/2013 0:30</td>\n",
       "      <td>19.35</td>\n",
       "      <td>0.045</td>\n",
       "      <td>0.153</td>\n",
       "    </tr>\n",
       "    <tr>\n",
       "      <th>2</th>\n",
       "      <td>1/01/2013 1:00</td>\n",
       "      <td>19.35</td>\n",
       "      <td>0.041</td>\n",
       "      <td>0.139</td>\n",
       "    </tr>\n",
       "    <tr>\n",
       "      <th>3</th>\n",
       "      <td>1/01/2013 1:30</td>\n",
       "      <td>19.40</td>\n",
       "      <td>0.034</td>\n",
       "      <td>0.105</td>\n",
       "    </tr>\n",
       "    <tr>\n",
       "      <th>4</th>\n",
       "      <td>1/01/2013 2:00</td>\n",
       "      <td>19.20</td>\n",
       "      <td>0.024</td>\n",
       "      <td>0.142</td>\n",
       "    </tr>\n",
       "    <tr>\n",
       "      <th>5</th>\n",
       "      <td>1/01/2013 2:30</td>\n",
       "      <td>19.00</td>\n",
       "      <td>0.018</td>\n",
       "      <td>0.146</td>\n",
       "    </tr>\n",
       "    <tr>\n",
       "      <th>6</th>\n",
       "      <td>1/01/2013 3:00</td>\n",
       "      <td>19.05</td>\n",
       "      <td>0.019</td>\n",
       "      <td>0.106</td>\n",
       "    </tr>\n",
       "    <tr>\n",
       "      <th>7</th>\n",
       "      <td>1/01/2013 3:30</td>\n",
       "      <td>18.85</td>\n",
       "      <td>0.018</td>\n",
       "      <td>0.106</td>\n",
       "    </tr>\n",
       "    <tr>\n",
       "      <th>8</th>\n",
       "      <td>1/01/2013 4:00</td>\n",
       "      <td>18.70</td>\n",
       "      <td>0.020</td>\n",
       "      <td>0.155</td>\n",
       "    </tr>\n",
       "    <tr>\n",
       "      <th>9</th>\n",
       "      <td>1/01/2013 4:30</td>\n",
       "      <td>18.55</td>\n",
       "      <td>0.021</td>\n",
       "      <td>0.133</td>\n",
       "    </tr>\n",
       "    <tr>\n",
       "      <th>10</th>\n",
       "      <td>1/01/2013 5:00</td>\n",
       "      <td>18.55</td>\n",
       "      <td>0.084</td>\n",
       "      <td>0.108</td>\n",
       "    </tr>\n",
       "    <tr>\n",
       "      <th>11</th>\n",
       "      <td>1/01/2013 5:30</td>\n",
       "      <td>17.95</td>\n",
       "      <td>0.034</td>\n",
       "      <td>0.106</td>\n",
       "    </tr>\n",
       "    <tr>\n",
       "      <th>12</th>\n",
       "      <td>1/01/2013 6:00</td>\n",
       "      <td>17.90</td>\n",
       "      <td>0.414</td>\n",
       "      <td>0.170</td>\n",
       "    </tr>\n",
       "    <tr>\n",
       "      <th>13</th>\n",
       "      <td>1/01/2013 6:30</td>\n",
       "      <td>18.20</td>\n",
       "      <td>0.398</td>\n",
       "      <td>0.179</td>\n",
       "    </tr>\n",
       "    <tr>\n",
       "      <th>14</th>\n",
       "      <td>1/01/2013 7:00</td>\n",
       "      <td>18.55</td>\n",
       "      <td>0.061</td>\n",
       "      <td>0.185</td>\n",
       "    </tr>\n",
       "    <tr>\n",
       "      <th>15</th>\n",
       "      <td>1/01/2013 7:30</td>\n",
       "      <td>18.80</td>\n",
       "      <td>0.019</td>\n",
       "      <td>0.107</td>\n",
       "    </tr>\n",
       "    <tr>\n",
       "      <th>16</th>\n",
       "      <td>1/01/2013 8:00</td>\n",
       "      <td>18.80</td>\n",
       "      <td>0.244</td>\n",
       "      <td>0.205</td>\n",
       "    </tr>\n",
       "    <tr>\n",
       "      <th>17</th>\n",
       "      <td>1/01/2013 8:30</td>\n",
       "      <td>18.85</td>\n",
       "      <td>0.228</td>\n",
       "      <td>0.137</td>\n",
       "    </tr>\n",
       "    <tr>\n",
       "      <th>18</th>\n",
       "      <td>1/01/2013 9:00</td>\n",
       "      <td>18.80</td>\n",
       "      <td>1.318</td>\n",
       "      <td>0.180</td>\n",
       "    </tr>\n",
       "    <tr>\n",
       "      <th>19</th>\n",
       "      <td>1/01/2013 9:30</td>\n",
       "      <td>19.15</td>\n",
       "      <td>0.034</td>\n",
       "      <td>0.176</td>\n",
       "    </tr>\n",
       "    <tr>\n",
       "      <th>20</th>\n",
       "      <td>1/01/2013 10:00</td>\n",
       "      <td>19.10</td>\n",
       "      <td>0.024</td>\n",
       "      <td>0.147</td>\n",
       "    </tr>\n",
       "    <tr>\n",
       "      <th>21</th>\n",
       "      <td>1/01/2013 10:30</td>\n",
       "      <td>19.50</td>\n",
       "      <td>0.023</td>\n",
       "      <td>0.173</td>\n",
       "    </tr>\n",
       "    <tr>\n",
       "      <th>22</th>\n",
       "      <td>1/01/2013 11:00</td>\n",
       "      <td>19.40</td>\n",
       "      <td>0.027</td>\n",
       "      <td>0.189</td>\n",
       "    </tr>\n",
       "    <tr>\n",
       "      <th>23</th>\n",
       "      <td>1/01/2013 11:30</td>\n",
       "      <td>19.70</td>\n",
       "      <td>0.016</td>\n",
       "      <td>0.148</td>\n",
       "    </tr>\n",
       "    <tr>\n",
       "      <th>24</th>\n",
       "      <td>1/01/2013 12:00</td>\n",
       "      <td>19.80</td>\n",
       "      <td>0.018</td>\n",
       "      <td>0.146</td>\n",
       "    </tr>\n",
       "    <tr>\n",
       "      <th>25</th>\n",
       "      <td>1/01/2013 12:30</td>\n",
       "      <td>19.50</td>\n",
       "      <td>0.020</td>\n",
       "      <td>0.194</td>\n",
       "    </tr>\n",
       "    <tr>\n",
       "      <th>26</th>\n",
       "      <td>1/01/2013 13:00</td>\n",
       "      <td>19.70</td>\n",
       "      <td>0.024</td>\n",
       "      <td>0.141</td>\n",
       "    </tr>\n",
       "    <tr>\n",
       "      <th>27</th>\n",
       "      <td>1/01/2013 13:30</td>\n",
       "      <td>19.30</td>\n",
       "      <td>0.024</td>\n",
       "      <td>0.177</td>\n",
       "    </tr>\n",
       "    <tr>\n",
       "      <th>28</th>\n",
       "      <td>1/01/2013 14:00</td>\n",
       "      <td>19.75</td>\n",
       "      <td>0.027</td>\n",
       "      <td>0.186</td>\n",
       "    </tr>\n",
       "    <tr>\n",
       "      <th>29</th>\n",
       "      <td>1/01/2013 14:30</td>\n",
       "      <td>19.50</td>\n",
       "      <td>0.024</td>\n",
       "      <td>0.152</td>\n",
       "    </tr>\n",
       "    <tr>\n",
       "      <th>...</th>\n",
       "      <td>...</td>\n",
       "      <td>...</td>\n",
       "      <td>...</td>\n",
       "      <td>...</td>\n",
       "    </tr>\n",
       "    <tr>\n",
       "      <th>17490</th>\n",
       "      <td>NaN</td>\n",
       "      <td>NaN</td>\n",
       "      <td>NaN</td>\n",
       "      <td>NaN</td>\n",
       "    </tr>\n",
       "    <tr>\n",
       "      <th>17491</th>\n",
       "      <td>NaN</td>\n",
       "      <td>NaN</td>\n",
       "      <td>NaN</td>\n",
       "      <td>NaN</td>\n",
       "    </tr>\n",
       "    <tr>\n",
       "      <th>17492</th>\n",
       "      <td>NaN</td>\n",
       "      <td>NaN</td>\n",
       "      <td>NaN</td>\n",
       "      <td>NaN</td>\n",
       "    </tr>\n",
       "    <tr>\n",
       "      <th>17493</th>\n",
       "      <td>NaN</td>\n",
       "      <td>NaN</td>\n",
       "      <td>NaN</td>\n",
       "      <td>NaN</td>\n",
       "    </tr>\n",
       "    <tr>\n",
       "      <th>17494</th>\n",
       "      <td>NaN</td>\n",
       "      <td>NaN</td>\n",
       "      <td>NaN</td>\n",
       "      <td>NaN</td>\n",
       "    </tr>\n",
       "    <tr>\n",
       "      <th>17495</th>\n",
       "      <td>NaN</td>\n",
       "      <td>NaN</td>\n",
       "      <td>NaN</td>\n",
       "      <td>NaN</td>\n",
       "    </tr>\n",
       "    <tr>\n",
       "      <th>17496</th>\n",
       "      <td>NaN</td>\n",
       "      <td>NaN</td>\n",
       "      <td>NaN</td>\n",
       "      <td>NaN</td>\n",
       "    </tr>\n",
       "    <tr>\n",
       "      <th>17497</th>\n",
       "      <td>NaN</td>\n",
       "      <td>NaN</td>\n",
       "      <td>NaN</td>\n",
       "      <td>NaN</td>\n",
       "    </tr>\n",
       "    <tr>\n",
       "      <th>17498</th>\n",
       "      <td>NaN</td>\n",
       "      <td>NaN</td>\n",
       "      <td>NaN</td>\n",
       "      <td>NaN</td>\n",
       "    </tr>\n",
       "    <tr>\n",
       "      <th>17499</th>\n",
       "      <td>NaN</td>\n",
       "      <td>NaN</td>\n",
       "      <td>NaN</td>\n",
       "      <td>NaN</td>\n",
       "    </tr>\n",
       "    <tr>\n",
       "      <th>17500</th>\n",
       "      <td>NaN</td>\n",
       "      <td>NaN</td>\n",
       "      <td>NaN</td>\n",
       "      <td>NaN</td>\n",
       "    </tr>\n",
       "    <tr>\n",
       "      <th>17501</th>\n",
       "      <td>NaN</td>\n",
       "      <td>NaN</td>\n",
       "      <td>NaN</td>\n",
       "      <td>NaN</td>\n",
       "    </tr>\n",
       "    <tr>\n",
       "      <th>17502</th>\n",
       "      <td>NaN</td>\n",
       "      <td>NaN</td>\n",
       "      <td>NaN</td>\n",
       "      <td>NaN</td>\n",
       "    </tr>\n",
       "    <tr>\n",
       "      <th>17503</th>\n",
       "      <td>NaN</td>\n",
       "      <td>NaN</td>\n",
       "      <td>NaN</td>\n",
       "      <td>NaN</td>\n",
       "    </tr>\n",
       "    <tr>\n",
       "      <th>17504</th>\n",
       "      <td>NaN</td>\n",
       "      <td>NaN</td>\n",
       "      <td>NaN</td>\n",
       "      <td>NaN</td>\n",
       "    </tr>\n",
       "    <tr>\n",
       "      <th>17505</th>\n",
       "      <td>NaN</td>\n",
       "      <td>NaN</td>\n",
       "      <td>NaN</td>\n",
       "      <td>NaN</td>\n",
       "    </tr>\n",
       "    <tr>\n",
       "      <th>17506</th>\n",
       "      <td>NaN</td>\n",
       "      <td>NaN</td>\n",
       "      <td>NaN</td>\n",
       "      <td>NaN</td>\n",
       "    </tr>\n",
       "    <tr>\n",
       "      <th>17507</th>\n",
       "      <td>NaN</td>\n",
       "      <td>NaN</td>\n",
       "      <td>NaN</td>\n",
       "      <td>NaN</td>\n",
       "    </tr>\n",
       "    <tr>\n",
       "      <th>17508</th>\n",
       "      <td>NaN</td>\n",
       "      <td>NaN</td>\n",
       "      <td>NaN</td>\n",
       "      <td>NaN</td>\n",
       "    </tr>\n",
       "    <tr>\n",
       "      <th>17509</th>\n",
       "      <td>NaN</td>\n",
       "      <td>NaN</td>\n",
       "      <td>NaN</td>\n",
       "      <td>NaN</td>\n",
       "    </tr>\n",
       "    <tr>\n",
       "      <th>17510</th>\n",
       "      <td>NaN</td>\n",
       "      <td>NaN</td>\n",
       "      <td>NaN</td>\n",
       "      <td>NaN</td>\n",
       "    </tr>\n",
       "    <tr>\n",
       "      <th>17511</th>\n",
       "      <td>NaN</td>\n",
       "      <td>NaN</td>\n",
       "      <td>NaN</td>\n",
       "      <td>NaN</td>\n",
       "    </tr>\n",
       "    <tr>\n",
       "      <th>17512</th>\n",
       "      <td>NaN</td>\n",
       "      <td>NaN</td>\n",
       "      <td>NaN</td>\n",
       "      <td>NaN</td>\n",
       "    </tr>\n",
       "    <tr>\n",
       "      <th>17513</th>\n",
       "      <td>NaN</td>\n",
       "      <td>NaN</td>\n",
       "      <td>NaN</td>\n",
       "      <td>NaN</td>\n",
       "    </tr>\n",
       "    <tr>\n",
       "      <th>17514</th>\n",
       "      <td>NaN</td>\n",
       "      <td>NaN</td>\n",
       "      <td>NaN</td>\n",
       "      <td>NaN</td>\n",
       "    </tr>\n",
       "    <tr>\n",
       "      <th>17515</th>\n",
       "      <td>NaN</td>\n",
       "      <td>NaN</td>\n",
       "      <td>NaN</td>\n",
       "      <td>NaN</td>\n",
       "    </tr>\n",
       "    <tr>\n",
       "      <th>17516</th>\n",
       "      <td>NaN</td>\n",
       "      <td>NaN</td>\n",
       "      <td>NaN</td>\n",
       "      <td>NaN</td>\n",
       "    </tr>\n",
       "    <tr>\n",
       "      <th>17517</th>\n",
       "      <td>NaN</td>\n",
       "      <td>NaN</td>\n",
       "      <td>NaN</td>\n",
       "      <td>NaN</td>\n",
       "    </tr>\n",
       "    <tr>\n",
       "      <th>17518</th>\n",
       "      <td>NaN</td>\n",
       "      <td>NaN</td>\n",
       "      <td>NaN</td>\n",
       "      <td>NaN</td>\n",
       "    </tr>\n",
       "    <tr>\n",
       "      <th>17519</th>\n",
       "      <td>NaN</td>\n",
       "      <td>NaN</td>\n",
       "      <td>NaN</td>\n",
       "      <td>NaN</td>\n",
       "    </tr>\n",
       "  </tbody>\n",
       "</table>\n",
       "<p>17520 rows × 4 columns</p>\n",
       "</div>"
      ],
      "text/plain": [
       "             timestamp     cp      1      2\n",
       "0       1/01/2013 0:00  19.30  0.106  0.102\n",
       "1       1/01/2013 0:30  19.35  0.045  0.153\n",
       "2       1/01/2013 1:00  19.35  0.041  0.139\n",
       "3       1/01/2013 1:30  19.40  0.034  0.105\n",
       "4       1/01/2013 2:00  19.20  0.024  0.142\n",
       "5       1/01/2013 2:30  19.00  0.018  0.146\n",
       "6       1/01/2013 3:00  19.05  0.019  0.106\n",
       "7       1/01/2013 3:30  18.85  0.018  0.106\n",
       "8       1/01/2013 4:00  18.70  0.020  0.155\n",
       "9       1/01/2013 4:30  18.55  0.021  0.133\n",
       "10      1/01/2013 5:00  18.55  0.084  0.108\n",
       "11      1/01/2013 5:30  17.95  0.034  0.106\n",
       "12      1/01/2013 6:00  17.90  0.414  0.170\n",
       "13      1/01/2013 6:30  18.20  0.398  0.179\n",
       "14      1/01/2013 7:00  18.55  0.061  0.185\n",
       "15      1/01/2013 7:30  18.80  0.019  0.107\n",
       "16      1/01/2013 8:00  18.80  0.244  0.205\n",
       "17      1/01/2013 8:30  18.85  0.228  0.137\n",
       "18      1/01/2013 9:00  18.80  1.318  0.180\n",
       "19      1/01/2013 9:30  19.15  0.034  0.176\n",
       "20     1/01/2013 10:00  19.10  0.024  0.147\n",
       "21     1/01/2013 10:30  19.50  0.023  0.173\n",
       "22     1/01/2013 11:00  19.40  0.027  0.189\n",
       "23     1/01/2013 11:30  19.70  0.016  0.148\n",
       "24     1/01/2013 12:00  19.80  0.018  0.146\n",
       "25     1/01/2013 12:30  19.50  0.020  0.194\n",
       "26     1/01/2013 13:00  19.70  0.024  0.141\n",
       "27     1/01/2013 13:30  19.30  0.024  0.177\n",
       "28     1/01/2013 14:00  19.75  0.027  0.186\n",
       "29     1/01/2013 14:30  19.50  0.024  0.152\n",
       "...                ...    ...    ...    ...\n",
       "17490              NaN    NaN    NaN    NaN\n",
       "17491              NaN    NaN    NaN    NaN\n",
       "17492              NaN    NaN    NaN    NaN\n",
       "17493              NaN    NaN    NaN    NaN\n",
       "17494              NaN    NaN    NaN    NaN\n",
       "17495              NaN    NaN    NaN    NaN\n",
       "17496              NaN    NaN    NaN    NaN\n",
       "17497              NaN    NaN    NaN    NaN\n",
       "17498              NaN    NaN    NaN    NaN\n",
       "17499              NaN    NaN    NaN    NaN\n",
       "17500              NaN    NaN    NaN    NaN\n",
       "17501              NaN    NaN    NaN    NaN\n",
       "17502              NaN    NaN    NaN    NaN\n",
       "17503              NaN    NaN    NaN    NaN\n",
       "17504              NaN    NaN    NaN    NaN\n",
       "17505              NaN    NaN    NaN    NaN\n",
       "17506              NaN    NaN    NaN    NaN\n",
       "17507              NaN    NaN    NaN    NaN\n",
       "17508              NaN    NaN    NaN    NaN\n",
       "17509              NaN    NaN    NaN    NaN\n",
       "17510              NaN    NaN    NaN    NaN\n",
       "17511              NaN    NaN    NaN    NaN\n",
       "17512              NaN    NaN    NaN    NaN\n",
       "17513              NaN    NaN    NaN    NaN\n",
       "17514              NaN    NaN    NaN    NaN\n",
       "17515              NaN    NaN    NaN    NaN\n",
       "17516              NaN    NaN    NaN    NaN\n",
       "17517              NaN    NaN    NaN    NaN\n",
       "17518              NaN    NaN    NaN    NaN\n",
       "17519              NaN    NaN    NaN    NaN\n",
       "\n",
       "[17520 rows x 4 columns]"
      ]
     },
     "execution_count": 48,
     "metadata": {},
     "output_type": "execute_result"
    }
   ],
   "source": [
    "load"
   ]
  },
  {
   "cell_type": "code",
   "execution_count": null,
   "metadata": {},
   "outputs": [],
   "source": []
  }
 ],
 "metadata": {
  "kernelspec": {
   "display_name": "Python 3",
   "language": "python",
   "name": "python3"
  },
  "language_info": {
   "codemirror_mode": {
    "name": "ipython",
    "version": 3
   },
   "file_extension": ".py",
   "mimetype": "text/x-python",
   "name": "python",
   "nbconvert_exporter": "python",
   "pygments_lexer": "ipython3",
   "version": "3.6.2"
  }
 },
 "nbformat": 4,
 "nbformat_minor": 1
}

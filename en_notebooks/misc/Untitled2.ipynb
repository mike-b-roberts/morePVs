{
 "cells": [
  {
   "cell_type": "code",
   "execution_count": 1,
   "metadata": {
    "collapsed": true
   },
   "outputs": [],
   "source": [
    "import os\n",
    "import pythoncom\n",
    "import win32api\n",
    "import win32com.client\n",
    "\n"
   ]
  },
  {
   "cell_type": "code",
   "execution_count": 2,
   "metadata": {
    "collapsed": true
   },
   "outputs": [],
   "source": [
    "f = 'C:\\\\Users\\\\z5044992\\\\Documents\\\\MainDATA\\\\DATA_EN_3\\\\p_testing\\\\outputs\\\\test7\\\\test7_results.csv'"
   ]
  },
  {
   "cell_type": "code",
   "execution_count": 23,
   "metadata": {},
   "outputs": [],
   "source": [
    "\n",
    "\n",
    "obj = win32com.client.GetObject (f)\n",
    "\n"
   ]
  },
  {
   "cell_type": "code",
   "execution_count": 5,
   "metadata": {
    "collapsed": true
   },
   "outputs": [],
   "source": [
    "obj = win32com.client.GetObject (f)"
   ]
  },
  {
   "cell_type": "code",
   "execution_count": 6,
   "metadata": {},
   "outputs": [
    {
     "data": {
      "text/plain": [
       "<COMObject C:\\Users\\z5044992\\Documents\\MainDATA\\DATA_EN_3\\p_testing\\outputs\\test7\\test7_results.csv>"
      ]
     },
     "execution_count": 6,
     "metadata": {},
     "output_type": "execute_result"
    }
   ],
   "source": [
    "obj"
   ]
  },
  {
   "cell_type": "code",
   "execution_count": 8,
   "metadata": {},
   "outputs": [
    {
     "name": "stdout",
     "output_type": "stream",
     "text": [
      "Found C:\\Users\\z5044992\\Documents\\MainDATA\\DATA_EN_3\\p_testing\\outputs\\test7\\test7_results.csv\n"
     ]
    }
   ],
   "source": [
    "context = pythoncom.CreateBindCtx (0)\n",
    "for moniker in pythoncom.GetRunningObjectTable ():\n",
    "  name = moniker.GetDisplayName (context, None)\n",
    "  if name.endswith (FILENAME):\n",
    "    print (\"Found\", name)\n",
    "    break\n",
    "else:\n",
    "  print (\"Not found\")"
   ]
  },
  {
   "cell_type": "code",
   "execution_count": 11,
   "metadata": {},
   "outputs": [
    {
     "name": "stdout",
     "output_type": "stream",
     "text": [
      "C:\\Users\\z5044992\\Documents\\MainDATA\\DATA_EN_3\\p_testing\\outputs\\test7\\test7_results.csv\n",
      "<PyIMoniker at 0x000000000441B600 with obj at 0x0000000002DF6620>\n"
     ]
    }
   ],
   "source": [
    "context = pythoncom.CreateBindCtx (0)\n",
    "for moniker in pythoncom.GetRunningObjectTable ():\n",
    "    name = moniker.GetDisplayName (context, None)\n",
    "    \n",
    "    if name == f:\n",
    "        print ( name)\n",
    "        print (moniker)\n",
    "        break\n",
    "    \n",
    "   "
   ]
  },
  {
   "cell_type": "code",
   "execution_count": 12,
   "metadata": {},
   "outputs": [
    {
     "data": {
      "text/plain": [
       "<PyIMoniker at 0x000000000441B600 with obj at 0x0000000002DF6620>"
      ]
     },
     "execution_count": 12,
     "metadata": {},
     "output_type": "execute_result"
    }
   ],
   "source": [
    "moniker"
   ]
  },
  {
   "cell_type": "code",
   "execution_count": 17,
   "metadata": {},
   "outputs": [
    {
     "ename": "com_error",
     "evalue": "(-2147417848, 'The object invoked has disconnected from its clients.', None, None)",
     "traceback": [
      "\u001b[1;31m---------------------------------------------------------------------------\u001b[0m",
      "\u001b[1;31mcom_error\u001b[0m                                 Traceback (most recent call last)",
      "\u001b[1;32m<ipython-input-17-c4c07f82f716>\u001b[0m in \u001b[0;36m<module>\u001b[1;34m()\u001b[0m\n\u001b[1;32m----> 1\u001b[1;33m \u001b[0mobj\u001b[0m\u001b[1;33m.\u001b[0m\u001b[0mClose\u001b[0m\u001b[1;33m(\u001b[0m\u001b[1;32mTrue\u001b[0m\u001b[1;33m)\u001b[0m\u001b[1;33m\u001b[0m\u001b[0m\n\u001b[0m",
      "\u001b[1;32mC:\\Users\\z5044992\\AppData\\Local\\Continuum\\Anaconda3\\lib\\site-packages\\win32com\\client\\dynamic.py\u001b[0m in \u001b[0;36mClose\u001b[1;34m(self, SaveChanges, Filename, RouteWorkbook)\u001b[0m\n",
      "\u001b[1;31mcom_error\u001b[0m: (-2147417848, 'The object invoked has disconnected from its clients.', None, None)"
     ],
     "output_type": "error"
    }
   ],
   "source": [
    "obj.Close(True)"
   ]
  },
  {
   "cell_type": "code",
   "execution_count": null,
   "metadata": {},
   "outputs": [],
   "source": [
    "\n",
    "import os\n",
    "import pythoncom\n",
    "import win32api\n",
    "import win32com.client\n",
    "context = pythoncom.CreateBindCtx (0)\n",
    "for moniker in pythoncom.GetRunningObjectTable ():\n",
    "    name = moniker.GetDisplayName (context, None)    \n",
    "    if name == f:\n",
    "        obj = win32com.client.GetObject (f)\n",
    "        obj.Close(True)"
   ]
  },
  {
   "cell_type": "code",
   "execution_count": 29,
   "metadata": {},
   "outputs": [],
   "source": [
    "from en_model.utils import en_utilities as util"
   ]
  },
  {
   "cell_type": "code",
   "execution_count": 30,
   "metadata": {},
   "outputs": [
    {
     "data": {
      "text/plain": [
       "'C:\\\\Users\\\\z5044992\\\\Documents\\\\MainDATA\\\\DATA_EN_3\\\\p_testing\\\\outputs\\\\test7\\\\test7_results.csv'"
      ]
     },
     "execution_count": 30,
     "metadata": {},
     "output_type": "execute_result"
    }
   ],
   "source": [
    "f"
   ]
  },
  {
   "cell_type": "code",
   "execution_count": 33,
   "metadata": {},
   "outputs": [],
   "source": [
    "import pandas as pd\n",
    "df= pd.DataFrame([1,2],index=['A','B'], columns = ['col1'])"
   ]
  },
  {
   "cell_type": "code",
   "execution_count": 35,
   "metadata": {},
   "outputs": [],
   "source": [
    "util.df_to_csv(df,f)"
   ]
  },
  {
   "cell_type": "code",
   "execution_count": null,
   "metadata": {
    "collapsed": true
   },
   "outputs": [],
   "source": []
  }
 ],
 "metadata": {
  "kernelspec": {
   "display_name": "Python 3",
   "language": "python",
   "name": "python3"
  },
  "language_info": {
   "codemirror_mode": {
    "name": "ipython",
    "version": 3
   },
   "file_extension": ".py",
   "mimetype": "text/x-python",
   "name": "python",
   "nbconvert_exporter": "python",
   "pygments_lexer": "ipython3",
   "version": "3.6.2"
  }
 },
 "nbformat": 4,
 "nbformat_minor": 2
}

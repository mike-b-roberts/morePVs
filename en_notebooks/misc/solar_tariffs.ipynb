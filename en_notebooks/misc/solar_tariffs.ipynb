{
 "cells": [
  {
   "cell_type": "code",
   "execution_count": null,
   "metadata": {},
   "outputs": [
    {
     "name": "stdout",
     "output_type": "stream",
     "text": [
      "name_1 ['rate_1', 'start_1', 'end_1', 'week_1']\n",
      "name_2 ['rate_2', 'start_2', 'end_2', 'week_2']\n",
      "name_3 ['rate_3', 'start_3', 'end_3', 'week_3']\n",
      "name_4 ['rate_4', 'start_4', 'end_4', 'week_4']\n",
      "name_5 ['rate_5', 'start_5', 'end_5', 'week_5']\n",
      "name_6 ['rate_6', 'start_6', 'end_6', 'week_6']\n",
      "name_7 ['rate_7', 'start_7', 'end_7', 'week_7']\n",
      "name_8 ['rate_8', 'start_8', 'end_8', 'week_8']\n"
     ]
    }
   ],
   "source": [
    "tou_rate_list = {'name_1': ['rate_1','start_1','end_1','week_1'],\n",
    "                             'name_2': ['rate_2', 'start_2', 'end_2', 'week_2'],\n",
    "                             'name_3': ['rate_3', 'start_3', 'end_3', 'week_3'],\n",
    "                             'name_4': ['rate_4', 'start_4', 'end_4', 'week_4'],\n",
    "                             'name_5': ['rate_5', 'start_5', 'end_5', 'week_5'],\n",
    "                             'name_6': ['rate_6', 'start_6', 'end_6', 'week_6'],\n",
    "                             'name_7': ['rate_7', 'start_7', 'end_7', 'week_7'],\n",
    "                             'name_8': ['rate_8', 'start_8', 'end_8', 'week_8'],\n",
    "                             }\n",
    "for name, parameter in tou_rate_list.items():\n",
    "    print(name, parameter)"
   ]
  },
  {
   "cell_type": "code",
   "execution_count": 15,
   "metadata": {},
   "outputs": [],
   "source": [
    "import numpy as np\n",
    "imp = np.array([1,2,3,4,5,6,7])\n",
    "quota = np.array([1,1,1,3,3,8,8])"
   ]
  },
  {
   "cell_type": "code",
   "execution_count": 16,
   "metadata": {},
   "outputs": [
    {
     "data": {
      "text/plain": [
       "(array([1, 1, 1, 3, 3, 8, 8]), array([1, 2, 3, 4, 5, 6, 7]))"
      ]
     },
     "execution_count": 16,
     "metadata": {},
     "output_type": "execute_result"
    }
   ],
   "source": [
    "quota,imp"
   ]
  },
  {
   "cell_type": "code",
   "execution_count": 18,
   "metadata": {},
   "outputs": [],
   "source": [
    "local = np.maximum(imp,quota)"
   ]
  },
  {
   "cell_type": "code",
   "execution_count": 19,
   "metadata": {},
   "outputs": [
    {
     "data": {
      "text/plain": [
       "array([1, 2, 3, 4, 5, 8, 8])"
      ]
     },
     "execution_count": 19,
     "metadata": {},
     "output_type": "execute_result"
    }
   ],
   "source": [
    "local"
   ]
  },
  {
   "cell_type": "code",
   "execution_count": 20,
   "metadata": {},
   "outputs": [],
   "source": [
    "x=1\n",
    "y=2\n",
    "z=3"
   ]
  },
  {
   "cell_type": "code",
   "execution_count": 23,
   "metadata": {},
   "outputs": [
    {
     "name": "stdout",
     "output_type": "stream",
     "text": [
      "yes it is\n"
     ]
    }
   ],
   "source": [
    "if y>x and z>y:\n",
    "    print(\"yes it is\")"
   ]
  },
  {
   "cell_type": "code",
   "execution_count": 25,
   "metadata": {},
   "outputs": [
    {
     "name": "stdout",
     "output_type": "stream",
     "text": [
      "local\n"
     ]
    }
   ],
   "source": [
    "if local.all():\n",
    "    print('local')\n",
    "    "
   ]
  },
  {
   "cell_type": "code",
   "execution_count": null,
   "metadata": {},
   "outputs": [],
   "source": []
  }
 ],
 "metadata": {
  "kernelspec": {
   "display_name": "Python 3",
   "language": "python",
   "name": "python3"
  },
  "language_info": {
   "codemirror_mode": {
    "name": "ipython",
    "version": 3
   },
   "file_extension": ".py",
   "mimetype": "text/x-python",
   "name": "python",
   "nbconvert_exporter": "python",
   "pygments_lexer": "ipython3",
   "version": "3.6.2"
  }
 },
 "nbformat": 4,
 "nbformat_minor": 1
}

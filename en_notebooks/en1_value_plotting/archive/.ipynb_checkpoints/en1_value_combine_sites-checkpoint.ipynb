{
 "cells": [
  {
   "cell_type": "code",
   "execution_count": 1,
   "metadata": {},
   "outputs": [],
   "source": [
    "import morePVs_output as opm\n",
    "import os\n",
    "import en_utilities as um\n",
    "import pandas as pd\n",
    "import shutil"
   ]
  },
  {
   "cell_type": "code",
   "execution_count": 2,
   "metadata": {},
   "outputs": [],
   "source": [
    "project='EN1_value_of_pv2'\n",
    "base_path='C:\\\\Users\\\\z5044992\\\\Documents\\\\MainDATA\\\\DATA_EN_3\\\\studies'\n",
    "i_path =os.path.join(base_path,project,'inputs')\n",
    "o_path =os.path.join(base_path,project,'outputs')"
   ]
  },
  {
   "cell_type": "code",
   "execution_count": 3,
   "metadata": {},
   "outputs": [
    {
     "name": "stdout",
     "output_type": "stream",
     "text": [
      "J siteJ_bat5a\n",
      "J siteJ_bat5b\n",
      "J siteJ_bat5c\n",
      "J siteJ_bat5d\n",
      "J siteJ_bat5e\n",
      "J siteJ_bat5f\n"
     ]
    }
   ],
   "source": [
    "# Combine input files\n",
    "df_comb = pd.DataFrame()\n",
    "studies = [s for s in os.listdir(i_path) if '.csv' in s and 'value5' in s and 'combined' not in s]\n",
    "for st in studies:\n",
    "    site = um.find_between(st,'site', '_')\n",
    "    study = um.find_between(st,'study_','.csv')\n",
    "    print(site, study)\n",
    "    op = opm.Output(base_path = base_path,\n",
    "                          project = project,\n",
    "                          study_name = study)\n",
    "    self = op\n",
    "    dfp = self.study_parameters\n",
    "#     dfp['ns'] = dfp.index\n",
    "#     dfp['ns'] = dfp['ns'].apply(lambda x : site + str(x))\n",
    "#     dfp = dfp.set_index(['ns'])\n",
    "#     dfp.index.name='scenario'\n",
    "    \n",
    "    \n",
    "    df_comb = df_comb.append(dfp)\n",
    "\n",
    "comb = os.path.join(i_path, 'study_combined_value5.csv')\n",
    "um.df_to_csv(df_comb, comb)"
   ]
  },
  {
   "cell_type": "code",
   "execution_count": 4,
   "metadata": {},
   "outputs": [
    {
     "data": {
      "text/plain": [
       "['study_siteJ_bat5a.csv',\n",
       " 'study_siteJ_bat5b.csv',\n",
       " 'study_siteJ_bat5c.csv',\n",
       " 'study_siteJ_bat5d.csv',\n",
       " 'study_siteJ_bat5e.csv',\n",
       " 'study_siteJ_bat5f.csv']"
      ]
     },
     "execution_count": 4,
     "metadata": {},
     "output_type": "execute_result"
    }
   ],
   "source": [
    "studies"
   ]
  },
  {
   "cell_type": "code",
   "execution_count": 5,
   "metadata": {},
   "outputs": [
    {
     "name": "stdout",
     "output_type": "stream",
     "text": [
      "J siteJ_bat5a\n",
      "J siteJ_bat5b\n",
      "J siteJ_bat5c\n",
      "J siteJ_bat5d\n",
      "J siteJ_bat5e\n",
      "J siteJ_bat5f\n"
     ]
    }
   ],
   "source": [
    "# Combine output files \n",
    "\n",
    "studies = [s for s in os.listdir(i_path) if '.csv' in s and 'value5' in s and 'combined' not in s]\n",
    "comb_dir = os.path.join(o_path,'combined_value5')\n",
    "if not os.path.exists(comb_dir):\n",
    "                     os.makedirs(comb_dir)\n",
    "        \n",
    "comb_scen_dir = os.path.join(comb_dir,'scenarios')\n",
    "if not os.path.exists(comb_scen_dir):\n",
    "                     os.makedirs(comb_scen_dir)\n",
    "dfc_comb = pd.DataFrame()\n",
    "dfr_comb = pd.DataFrame()\n",
    "dfs_comb = pd.DataFrame()\n",
    "\n",
    "\n",
    "for st in studies:\n",
    "    site = um.find_between(st,'site', '_')\n",
    "    study = um.find_between(st,'study_','.csv')\n",
    "    folder = os.path.join(o_path,study)\n",
    "    print(site, study)\n",
    "    op = opm.Output(base_path = base_path,\n",
    "                          project = project,\n",
    "                          study_name = study)\n",
    "    self = op\n",
    "    files = [f for f in os.listdir(folder) if '.csv' in f]\n",
    "    fcr  = os.path.join(folder,[f for f in files if 'customer_results' in f][0])\n",
    "    fstd  = os.path.join(folder, [f for f in files if 'results_std' in f][0])\n",
    "    fr  = os.path.join(folder, [f for f in files if not ('customer_results' in f or 'results_std' in f)][0])\n",
    "    \n",
    "    dfc=pd.read_csv(fcr)\n",
    "    dfs=pd.read_csv(fstd)\n",
    "    dfr=pd.read_csv(fr) \n",
    "    \n",
    "#     dfc['ns'] = dfc.index\n",
    "#     dfc['ns'] = dfc['ns'].apply(lambda x : site + str(x))\n",
    "#     dfc = dfc.set_index(['ns'])    \n",
    "    dfc_comb = dfc_comb.append(dfc)\n",
    "    dfc.index.name='scenario'\n",
    "    \n",
    "#     dfr['ns'] = dfr.index\n",
    "#     dfr['ns'] = dfr['ns'].apply(lambda x : site + str(x))\n",
    "#     dfr = dfr.set_index(['ns'])    \n",
    "    dfr_comb = dfr_comb.append(dfr)\n",
    "    dfr.index.name='scenario'\n",
    "    \n",
    "#     dfs['ns'] = dfs.index\n",
    "#     dfs['ns'] = dfs['ns'].apply(lambda x : site + str(x))\n",
    "#     dfs = dfs.set_index(['ns'])    \n",
    "    dfs_comb = dfs_comb.append(dfs)\n",
    "    dfs.index.name='scenario'\n",
    "    \n",
    "    scen_dir = os.path.join(folder,'scenarios')\n",
    "\n",
    "    for file in os.listdir(scen_dir):\n",
    "        old = os.path.join(scen_dir,file)\n",
    "        new = os.path.join(comb_scen_dir,file)\n",
    "        shutil.copy(old,new)\n",
    "\n",
    "cr = os.path.join(comb_dir, 'combined_value5_results.csv')\n",
    "um.df_to_csv(dfr_comb, cr)\n",
    "\n",
    "cc = os.path.join(comb_dir, 'combined_value5_customer_results.csv')\n",
    "um.df_to_csv(dfc_comb, cc)\n",
    "\n",
    "cs = os.path.join(comb_dir, 'combined_value5_std_dev.csv')\n",
    "um.df_to_csv(dfs_comb, cs)\n"
   ]
  },
  {
   "cell_type": "code",
   "execution_count": null,
   "metadata": {},
   "outputs": [],
   "source": []
  },
  {
   "cell_type": "code",
   "execution_count": null,
   "metadata": {},
   "outputs": [],
   "source": []
  }
 ],
 "metadata": {
  "kernelspec": {
   "display_name": "Python 3",
   "language": "python",
   "name": "python3"
  },
  "language_info": {
   "codemirror_mode": {
    "name": "ipython",
    "version": 3
   },
   "file_extension": ".py",
   "mimetype": "text/x-python",
   "name": "python",
   "nbconvert_exporter": "python",
   "pygments_lexer": "ipython3",
   "version": "3.6.5"
  }
 },
 "nbformat": 4,
 "nbformat_minor": 1
}

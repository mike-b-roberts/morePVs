{
 "cells": [
  {
   "cell_type": "code",
   "execution_count": 1,
   "metadata": {},
   "outputs": [],
   "source": [
    "import morePVs_output as opm\n",
    "import morePVs as mpv\n",
    "import os\n",
    "import en_utilities as um\n",
    "import pandas as pd\n",
    "import numpy as np\n",
    "import matplotlib as mpl\n",
    "import matplotlib.pyplot as plt\n",
    "import matplotlib.lines as mlines\n",
    "\n"
   ]
  },
  {
   "cell_type": "markdown",
   "metadata": {},
   "source": [
    "Plotting NPV\n",
    "-------------------\n",
    "\n"
   ]
  },
  {
   "cell_type": "code",
   "execution_count": 2,
   "metadata": {},
   "outputs": [],
   "source": [
    "\n",
    "project='EN1_rerun3'\n",
    "study_name='value11b'\n",
    "base_path='C:\\\\Users\\\\z5044992\\\\Documents\\\\MainDATA\\\\DATA_EN_4\\\\studies'\n",
    "op = opm.Output(base_path = base_path,\n",
    "                          project = project,\n",
    "                          study_name = study_name)\n",
    "\n",
    "short_name = 'value11b'"
   ]
  },
  {
   "cell_type": "code",
   "execution_count": 3,
   "metadata": {},
   "outputs": [],
   "source": [
    "self = op\n",
    "df = self.data.copy()\n",
    "df_in = self.study_parameters.copy()\n"
   ]
  },
  {
   "cell_type": "code",
   "execution_count": 4,
   "metadata": {},
   "outputs": [],
   "source": [
    "\n",
    "df = df.merge(df_in,left_index = True, right_index=True)\n",
    "for c in df.columns:\n",
    "    if '_x' in c:\n",
    "        nc = c[:-2]\n",
    "        df.rename(columns={c:nc}, inplace=True)\n"
   ]
  },
  {
   "cell_type": "code",
   "execution_count": 5,
   "metadata": {},
   "outputs": [],
   "source": [
    "# Set up constants\n",
    "sites = ['A','E',  'D','B', 'H', 'I', 'G', 'C',  'J', 'F' ]\n",
    "values = [1, 2, 3, 4, 5, 6, 7, 8, 9, 10]\n",
    "ordered_sites = dict(zip(sites,values))\n",
    "tag_list = ['a208_f12_cp34',\n",
    " 'a161_f7_cp38',\n",
    " 'a138_f9_cp44',\n",
    " 'a104_f8_cp57',\n",
    " 'a52_f3_cp26',\n",
    " 'a48_f4_cp09',\n",
    " 'a44_f4_cp17',\n",
    " 'a34_f4_cp33',\n",
    " 'a26_f4_cp43',\n",
    " 'a20_f5_cp36']\n",
    "tag_dict=dict(zip(sites, tag_list))\n",
    "tag_sorter= dict(zip(tag_list,values))\n",
    "\n",
    "\n",
    "# Plotting set-up parameters\n",
    "cmap = mpl.cm.tab10_r\n",
    "alpha=1\n",
    "sites_grouped={'all': sites,\n",
    "              'group1': [s for s in sites if s in ['A','B','C','D','E']],\n",
    "              'group2': [s for s in sites if s in['F', 'G','H','I','J']]}\n",
    "\n",
    "a_terms =[a for a in [5,10,15,20,25] if a in df.a_term.tolist()]\n",
    "dashList = [(2,8),(3,5),(10,0),(3,2,10,2),(5,2,20,2)] \n",
    "markers =['+','o','d','s','x']\n",
    "term_dashes = dict(zip(a_terms,dashList))\n",
    "term_markers = dict(zip(a_terms,markers))\n",
    "\n",
    "# get pv sizes for maximum pv systems\n",
    "maximums={}\n",
    "pv_ref_file='C:\\\\Users\\\\z5044992\\\\Documents\\\\MainDATA\\\\DATA_EN_3\\\\reference\\\\capex_pv_lookup.csv'\n",
    "pv_ref=pd.read_csv(pv_ref_file)\n",
    "pv_ref = pv_ref.set_index('pv_cap_id')\n",
    "for i in pv_ref.index:\n",
    "    if 'max' in i and 'site' in i:\n",
    "        site = um.find_between(i,'_','_')\n",
    "        maximums[site] = pv_ref.loc[i,'kW']\n",
    "en_capexes= [c for c in ['capex_low','capex_med','capex_high']if c in df.en_capex_id.tolist()]\n",
    "#parents = [p for p in ['EA310_12c_FIT8', 'EA310_12c_FIT12', 'EA310_12c',\\\n",
    "#           'EA310_10c_FIT8', 'EA310_10c_FIT12', 'EA310_10c',\\\n",
    "#         'EA310_8c_FIT8', 'EA310_8c_FIT12','EA310_8c'] if p in df.parent.tolist()]\n",
    "parents_retail = list(set([p[6:] for p in df.parent.tolist() if p != 'TIDNULL']))"
   ]
  },
  {
   "cell_type": "code",
   "execution_count": 6,
   "metadata": {},
   "outputs": [],
   "source": [
    "# Organise labels (no longer used for labels- now use site_tags)\n",
    "df.loc[:,'site'] = df.loc[:,'load_folder'].apply(lambda x : x[-1])\n",
    "\n",
    "floors = {'A':12,'E':7, 'D':9,'B':8,'H':3,'I':4,'G':4,'C':4,'J':4,'F':5}\n",
    "numhouses={'A':208,'E':161, 'D':138,'B':104,'H':52,'I':48,'G':44,'C':34,'J':26,'F':20}\n",
    "labels ={}\n",
    "for s, f in floors.items():\n",
    "    u = numhouses[s]\n",
    "    labels[s] = s +'('+str(u)+'/'+str(f)+')'\n",
    "\n",
    "df.loc[:, 'label'] = df.loc[:, 'site'].apply(lambda x: labels[x])\n",
    "\n",
    "\n"
   ]
  },
  {
   "cell_type": "code",
   "execution_count": 7,
   "metadata": {},
   "outputs": [],
   "source": [
    "# get kWp / unit , total $ / unit  and % bau for each scenario\n",
    "df['pv_filename'].fillna('zero',inplace=True)\n",
    "for s in df.index:\n",
    "    site = df.loc[s,'load_folder'][-1]\n",
    "    a_term = df.loc[s,'a_term']\n",
    "    df.loc[s,'site']=site\n",
    "    if df.loc[s,'pv_filename'] == 'zero':\n",
    "        df.loc[s,'kwp_unit'] =0\n",
    "    elif 'max' in df.loc[s,'pv_filename']:\n",
    "        df.loc[s,'kwp_unit']= maximums[site]/df.loc[s,'number_of_households']\n",
    "    else:\n",
    "        df.loc[s,'kwp_unit'] = float(df.loc[s,'pv_filename'][-9]) + float(df.loc[s,'pv_filename'][-7])/10\n",
    "    df.loc[s,'npv_unit'] = df.loc[s,'eno$_npv_building_mean']/df.loc[s,'number_of_households']\n",
    "    bau_scenario = df[(df['site']==site) & (df['arrangement'] == 'bau') & (df['a_term'] == a_term)].index\n",
    "    df.loc[s,'bau_npv'] = (df.loc[bau_scenario,'eno$_npv_building_mean']).values[0]/df.loc[s,'number_of_households']\n",
    "    df.loc[s,'bau_scenario'] = bau_scenario\n",
    "    df.loc[s,'npv_cf_bau'] = df.loc[s,'npv_unit'] - df.loc[s,'bau_npv']\n",
    "    df.loc[s,'npv_%_bau'] = -df.loc[s,'npv_cf_bau'] / df.loc[s,'bau_npv'] * 100\n",
    "    df.loc[s,'npv_cf_bau_000'] = df.loc[s,'npv_cf_bau'] /1000\n",
    "df['parent_retail']= df.loc[df['parent'] != 'TIDNULL']['parent'].apply(lambda x: x[6:])\n",
    "        "
   ]
  },
  {
   "cell_type": "code",
   "execution_count": 8,
   "metadata": {},
   "outputs": [],
   "source": [
    "# Save updated results\n",
    "fn = os.path.join(base_path, project,'outputs',study_name, study_name+'_results_process.csv')\n",
    "df.to_csv(fn)"
   ]
  },
  {
   "cell_type": "code",
   "execution_count": null,
   "metadata": {},
   "outputs": [],
   "source": []
  }
 ],
 "metadata": {
  "kernelspec": {
   "display_name": "Python 3",
   "language": "python",
   "name": "python3"
  },
  "language_info": {
   "codemirror_mode": {
    "name": "ipython",
    "version": 3
   },
   "file_extension": ".py",
   "mimetype": "text/x-python",
   "name": "python",
   "nbconvert_exporter": "python",
   "pygments_lexer": "ipython3",
   "version": "3.6.5"
  }
 },
 "nbformat": 4,
 "nbformat_minor": 2
}

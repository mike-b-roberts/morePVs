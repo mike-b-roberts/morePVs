{
 "cells": [
  {
   "cell_type": "code",
   "execution_count": 1,
   "metadata": {},
   "outputs": [],
   "source": [
    "import pandas as pd"
   ]
  },
  {
   "cell_type": "code",
   "execution_count": null,
   "metadata": {},
   "outputs": [],
   "source": []
  },
  {
   "cell_type": "code",
   "execution_count": 4,
   "metadata": {},
   "outputs": [],
   "source": [
    "sites=['A','E','D','B','H','I','G','C','J','F']\n",
    "floors = {'A':12,'E':7, 'D':9,'B':8,'H':3,'I':4,'G':4,'C':4,'J':4,'F':5}\n",
    "numhouses={'A':208,'E':161, 'D':138,'B':104,'H':52,'I':48,'G':44,'C':34,'J':26,'F':20}\n"
   ]
  },
  {
   "cell_type": "code",
   "execution_count": 5,
   "metadata": {},
   "outputs": [
    {
     "data": {
      "text/plain": [
       "{'A': '34',\n",
       " 'B': '57',\n",
       " 'C': '33',\n",
       " 'D': '44',\n",
       " 'E': '38',\n",
       " 'F': '36',\n",
       " 'G': '17',\n",
       " 'H': '26',\n",
       " 'I': '09',\n",
       " 'J': '43'}"
      ]
     },
     "execution_count": 5,
     "metadata": {},
     "output_type": "execute_result"
    }
   ],
   "source": [
    "f = ('C:\\\\Users\\\\z5044992\\\\Documents\\\\MainDATA\\\\DATA_EN_4\\\\studies\\\\EN1_rerun3\\\\outputs\\\\value11a\\\\value11a_results.csv')\n",
    "df= pd.read_csv(f)\n",
    "cp=[]\n",
    "for s in sites:\n",
    "    cp.append(\"%02d\" % int(round((df.loc[df['load_folder'].str[-1]==s].cp_ratio_mean.values[0]))))\n",
    "site_cp = dict(zip(sites,cp))\n",
    "site_cp"
   ]
  },
  {
   "cell_type": "code",
   "execution_count": 6,
   "metadata": {},
   "outputs": [
    {
     "data": {
      "text/plain": [
       "['a208_f12_cp34',\n",
       " 'a161_f7_cp38',\n",
       " 'a138_f9_cp44',\n",
       " 'a104_f8_cp57',\n",
       " 'a52_f3_cp26',\n",
       " 'a48_f4_cp09',\n",
       " 'a44_f4_cp17',\n",
       " 'a34_f4_cp33',\n",
       " 'a26_f4_cp43',\n",
       " 'a20_f5_cp36']"
      ]
     },
     "execution_count": 6,
     "metadata": {},
     "output_type": "execute_result"
    }
   ],
   "source": [
    "tags = ['a'+ str(numhouses[s])+'_f'+ str(floors[s])+ '_cp' + site_cp[s] for s in sites]\n",
    "tags"
   ]
  },
  {
   "cell_type": "markdown",
   "metadata": {},
   "source": [
    "['a208_f12_cp34',\n",
    " 'a161_f7_cp37',\n",
    " 'a138_f9_cp43',\n",
    " 'a104_f8_cp56',\n",
    " 'a52_f3_cp26',\n",
    " 'a48_f4_cp09',\n",
    " 'a44_f4_cp16',\n",
    " 'a34_f4_cp32',\n",
    " 'a26_f4_cp42',\n",
    " 'a20_f5_cp36']"
   ]
  },
  {
   "cell_type": "code",
   "execution_count": 7,
   "metadata": {},
   "outputs": [],
   "source": [
    "site_tags= dict(zip(sites, tags))"
   ]
  },
  {
   "cell_type": "code",
   "execution_count": 8,
   "metadata": {},
   "outputs": [
    {
     "data": {
      "text/plain": [
       "{'A': 'a208_f12_cp34',\n",
       " 'B': 'a104_f8_cp57',\n",
       " 'C': 'a34_f4_cp33',\n",
       " 'D': 'a138_f9_cp44',\n",
       " 'E': 'a161_f7_cp38',\n",
       " 'F': 'a20_f5_cp36',\n",
       " 'G': 'a44_f4_cp17',\n",
       " 'H': 'a52_f3_cp26',\n",
       " 'I': 'a48_f4_cp09',\n",
       " 'J': 'a26_f4_cp43'}"
      ]
     },
     "execution_count": 8,
     "metadata": {},
     "output_type": "execute_result"
    }
   ],
   "source": [
    "site_tags\n"
   ]
  },
  {
   "cell_type": "code",
   "execution_count": 18,
   "metadata": {},
   "outputs": [],
   "source": [
    "# old_tags = {'A': 'a208_f12_cp34',\n",
    "#  'B': 'a104_f8_cp57',\n",
    "#  'C': 'a34_f4_cp34',\n",
    "#  'D': 'a138_f9_cp45',\n",
    "#  'E': 'a161_f7_cp38',\n",
    "#  'F': 'a20_f5_cp37',\n",
    "#  'G': 'a44_f4_cp17',\n",
    "#  'H': 'a52_f3_cp27',\n",
    "#  'I': 'a48_f4_cp09',\n",
    "#  'J': 'a26_f4_cp44'}"
   ]
  },
  {
   "cell_type": "code",
   "execution_count": null,
   "metadata": {},
   "outputs": [],
   "source": []
  }
 ],
 "metadata": {
  "kernelspec": {
   "display_name": "Python 3",
   "language": "python",
   "name": "python3"
  },
  "language_info": {
   "codemirror_mode": {
    "name": "ipython",
    "version": 3
   },
   "file_extension": ".py",
   "mimetype": "text/x-python",
   "name": "python",
   "nbconvert_exporter": "python",
   "pygments_lexer": "ipython3",
   "version": "3.6.5"
  }
 },
 "nbformat": 4,
 "nbformat_minor": 2
}

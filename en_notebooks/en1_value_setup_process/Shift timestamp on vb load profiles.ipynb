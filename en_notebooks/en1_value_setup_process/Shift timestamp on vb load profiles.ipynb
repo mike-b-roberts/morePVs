{
 "cells": [
  {
   "cell_type": "code",
   "execution_count": 4,
   "metadata": {},
   "outputs": [],
   "source": [
    "import os\n",
    "import en_utilities as um\n",
    "import pandas as pd"
   ]
  },
  {
   "cell_type": "code",
   "execution_count": 6,
   "metadata": {},
   "outputs": [],
   "source": [
    "base_path='C:\\\\Users\\\\z5044992\\\\Documents\\\\MainDATA\\\\DATA_EN_3\\\\load_profiles'\n",
    "folder= 'h_all_site_J'\n",
    "i_path = os.path.join(base_path,folder)\n",
    "o_path=os.path.join(base_path,'h_all_site_J_shifted')"
   ]
  },
  {
   "cell_type": "code",
   "execution_count": 3,
   "metadata": {},
   "outputs": [],
   "source": [
    "flist = os.listdir(i_path)"
   ]
  },
  {
   "cell_type": "code",
   "execution_count": 4,
   "metadata": {},
   "outputs": [],
   "source": [
    "for f in flist:\n",
    "    file = os.path.join(i_path,f)\n",
    "    df = pd.read_csv(file)\n",
    "    df = df.set_index('timestamp')\n",
    "    temp = df.iloc[0].copy()\n",
    "    for i in range (0,17519):\n",
    "        df.iloc[i]=df.iloc[i+1]\n",
    "    df.iloc[17519]=temp\n",
    "    newfile = os.path.join(o_path,f)\n",
    "    df.to_csv(newfile)"
   ]
  },
  {
   "cell_type": "code",
   "execution_count": 8,
   "metadata": {},
   "outputs": [
    {
     "name": "stdout",
     "output_type": "stream",
     "text": [
      "vb_site_h_all_site_J_01_shift.csv\n",
      "vb_site_h_all_site_J_02_shift.csv\n",
      "vb_site_h_all_site_J_03_shift.csv\n",
      "vb_site_h_all_site_J_04_shift.csv\n",
      "vb_site_h_all_site_J_05_shift.csv\n",
      "vb_site_h_all_site_J_06_shift.csv\n",
      "vb_site_h_all_site_J_07_shift.csv\n",
      "vb_site_h_all_site_J_08_shift.csv\n",
      "vb_site_h_all_site_J_09_shift.csv\n",
      "vb_site_h_all_site_J_10_shift.csv\n",
      "vb_site_h_all_site_J_11_shift.csv\n",
      "vb_site_h_all_site_J_12_shift.csv\n",
      "vb_site_h_all_site_J_13_shift.csv\n",
      "vb_site_h_all_site_J_14_shift.csv\n",
      "vb_site_h_all_site_J_15_shift.csv\n",
      "vb_site_h_all_site_J_16_shift.csv\n",
      "vb_site_h_all_site_J_17_shift.csv\n",
      "vb_site_h_all_site_J_18_shift.csv\n",
      "vb_site_h_all_site_J_19_shift.csv\n",
      "vb_site_h_all_site_J_20_shift.csv\n",
      "vb_site_h_all_site_J_21_shift.csv\n",
      "vb_site_h_all_site_J_22_shift.csv\n",
      "vb_site_h_all_site_J_23_shift.csv\n",
      "vb_site_h_all_site_J_24_shift.csv\n",
      "vb_site_h_all_site_J_25_shift.csv\n",
      "vb_site_h_all_site_J_26_shift.csv\n",
      "vb_site_h_all_site_J_27_shift.csv\n",
      "vb_site_h_all_site_J_28_shift.csv\n",
      "vb_site_h_all_site_J_29_shift.csv\n",
      "vb_site_h_all_site_J_30_shift.csv\n",
      "vb_site_h_all_site_J_31_shift.csv\n",
      "vb_site_h_all_site_J_32_shift.csv\n",
      "vb_site_h_all_site_J_33_shift.csv\n",
      "vb_site_h_all_site_J_34_shift.csv\n",
      "vb_site_h_all_site_J_35_shift.csv\n",
      "vb_site_h_all_site_J_36_shift.csv\n",
      "vb_site_h_all_site_J_37_shift.csv\n",
      "vb_site_h_all_site_J_38_shift.csv\n",
      "vb_site_h_all_site_J_39_shift.csv\n",
      "vb_site_h_all_site_J_40_shift.csv\n",
      "vb_site_h_all_site_J_41_shift.csv\n",
      "vb_site_h_all_site_J_42_shift.csv\n",
      "vb_site_h_all_site_J_43_shift.csv\n",
      "vb_site_h_all_site_J_44_shift.csv\n",
      "vb_site_h_all_site_J_45_shift.csv\n",
      "vb_site_h_all_site_J_46_shift.csv\n",
      "vb_site_h_all_site_J_47_shift.csv\n",
      "vb_site_h_all_site_J_48_shift.csv\n",
      "vb_site_h_all_site_J_49_shift.csv\n",
      "vb_site_h_all_site_J_50_shift.csv\n"
     ]
    }
   ],
   "source": [
    "flist = os.listdir(o_path)\n",
    "for f in flist:\n",
    "    file = os.path.join(o_path,f)\n",
    "    nn = f[0:-4]+'_shift.csv'\n",
    "    print (nn)\n",
    "    newfile= os.path.join(o_path,nn)\n",
    "    os.rename(file, newfile)"
   ]
  },
  {
   "cell_type": "code",
   "execution_count": null,
   "metadata": {},
   "outputs": [],
   "source": []
  }
 ],
 "metadata": {
  "kernelspec": {
   "display_name": "Python 3",
   "language": "python",
   "name": "python3"
  },
  "language_info": {
   "codemirror_mode": {
    "name": "ipython",
    "version": 3
   },
   "file_extension": ".py",
   "mimetype": "text/x-python",
   "name": "python",
   "nbconvert_exporter": "python",
   "pygments_lexer": "ipython3",
   "version": "3.6.5"
  }
 },
 "nbformat": 4,
 "nbformat_minor": 2
}

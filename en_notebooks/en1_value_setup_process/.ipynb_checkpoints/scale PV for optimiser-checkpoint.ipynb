{
 "cells": [
  {
   "cell_type": "code",
   "execution_count": 1,
   "metadata": {},
   "outputs": [],
   "source": [
    "import pandas as pd\n",
    "import os\n",
    "import utility_module as um\n",
    "path = 'C:\\\\Users\\\\z5044992\\\\Documents\\\\MainDATA\\\\DATA_EN_4\\\\pv_profiles'\n",
    "fl = os.listdir(path)"
   ]
  },
  {
   "cell_type": "code",
   "execution_count": 6,
   "metadata": {},
   "outputs": [],
   "source": [
    "sizes = {'A':47.25,\n",
    "        'B':18.75,\n",
    "        'C':9.5,\n",
    "        'D':42.25,\n",
    "        'E':90.25,\n",
    "        'F':31.5,\n",
    "        'G':76.75,\n",
    "        'H':141.5,\n",
    "        'I':52.5,\n",
    "        'J':78.5,\n",
    "        }"
   ]
  },
  {
   "cell_type": "code",
   "execution_count": 9,
   "metadata": {},
   "outputs": [],
   "source": [
    "for f in [f for f in fl if 'max' in f]:\n",
    "    fp = os.path.join(path,f)\n",
    "    site = um.find_between(f,'site_','_')\n",
    "    df = pd.read_csv(fp,index_col = [0], parse_dates=[0])\n",
    "    df = df/sizes[site]\n",
    "    fout = f.replace('max','scaled')\n",
    "    po = os.path.join(path,fout)\n",
    "    df.to_csv(po)"
   ]
  },
  {
   "cell_type": "code",
   "execution_count": 8,
   "metadata": {},
   "outputs": [
    {
     "data": {
      "text/plain": [
       "'site_A_scaled.csv'"
      ]
     },
     "execution_count": 8,
     "metadata": {},
     "output_type": "execute_result"
    }
   ],
   "source": []
  },
  {
   "cell_type": "code",
   "execution_count": null,
   "metadata": {},
   "outputs": [],
   "source": []
  }
 ],
 "metadata": {
  "kernelspec": {
   "display_name": "Python 3",
   "language": "python",
   "name": "python3"
  },
  "language_info": {
   "codemirror_mode": {
    "name": "ipython",
    "version": 3
   },
   "file_extension": ".py",
   "mimetype": "text/x-python",
   "name": "python",
   "nbconvert_exporter": "python",
   "pygments_lexer": "ipython3",
   "version": "3.6.5"
  }
 },
 "nbformat": 4,
 "nbformat_minor": 2
}

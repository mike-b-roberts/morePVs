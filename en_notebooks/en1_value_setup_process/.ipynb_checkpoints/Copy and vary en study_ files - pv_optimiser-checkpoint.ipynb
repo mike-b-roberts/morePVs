{
 "cells": [
  {
   "cell_type": "code",
   "execution_count": 1,
   "metadata": {},
   "outputs": [],
   "source": [
    "import os\n",
    "import en_utilities as um\n",
    "import pandas as pd"
   ]
  },
  {
   "cell_type": "code",
   "execution_count": 2,
   "metadata": {},
   "outputs": [],
   "source": [
    "base_path='C:\\\\Users\\\\z5044992\\\\Documents\\\\MainDATA\\\\DATA_EN_3\\\\studies'\n",
    "project = 'pv_optimiser_2'\n",
    "i_path = os.path.join(base_path,project,'inputs')"
   ]
  },
  {
   "cell_type": "code",
   "execution_count": 6,
   "metadata": {},
   "outputs": [],
   "source": [
    "i_list = ['study_pv_optimiser_2_6.csv']\n"
   ]
  },
  {
   "cell_type": "code",
   "execution_count": 7,
   "metadata": {},
   "outputs": [],
   "source": [
    "o_list = [f.replace('6','7') for f in i_list]\n",
    "old = 'en_pv'\n",
    "new = 'btm_s_c'"
   ]
  },
  {
   "cell_type": "code",
   "execution_count": 8,
   "metadata": {},
   "outputs": [],
   "source": [
    "for i in range(len(i_list)):\n",
    "    name = i_list[i]\n",
    "    file = os.path.join(i_path,name)\n",
    "    df = pd.read_csv(file)\n",
    "    df = df.replace(old,new)\n",
    "    newname = o_list[i]\n",
    "    newfile = os.path.join(i_path,newname)\n",
    "    df.to_csv(newfile)"
   ]
  },
  {
   "cell_type": "code",
   "execution_count": 13,
   "metadata": {},
   "outputs": [],
   "source": [
    "o_list = [f.replace('6','8') for f in i_list]\n",
    "old = 'en_pv'\n",
    "new = 'btm_i_cp'"
   ]
  },
  {
   "cell_type": "code",
   "execution_count": 14,
   "metadata": {},
   "outputs": [],
   "source": [
    "for i in range(len(i_list)):\n",
    "    name = i_list[i]\n",
    "    file = os.path.join(i_path,name)\n",
    "    df = pd.read_csv(file)\n",
    "    df = df.replace(old,new)\n",
    "    newname = o_list[i]\n",
    "    newfile = os.path.join(i_path,newname)\n",
    "    df.to_csv(newfile)"
   ]
  },
  {
   "cell_type": "code",
   "execution_count": 15,
   "metadata": {},
   "outputs": [],
   "source": [
    "o_list = [f.replace('6','9') for f in i_list]\n",
    "old = 'en_pv'\n",
    "new = 'cp_only'"
   ]
  },
  {
   "cell_type": "code",
   "execution_count": 16,
   "metadata": {},
   "outputs": [],
   "source": [
    "for i in range(len(i_list)):\n",
    "    name = i_list[i]\n",
    "    file = os.path.join(i_path,name)\n",
    "    df = pd.read_csv(file)\n",
    "    df = df.replace(old,new)\n",
    "    newname = o_list[i]\n",
    "    newfile = os.path.join(i_path,newname)\n",
    "    df.to_csv(newfile)"
   ]
  },
  {
   "cell_type": "code",
   "execution_count": null,
   "metadata": {},
   "outputs": [],
   "source": []
  },
  {
   "cell_type": "code",
   "execution_count": null,
   "metadata": {},
   "outputs": [],
   "source": []
  }
 ],
 "metadata": {
  "kernelspec": {
   "display_name": "Python 3",
   "language": "python",
   "name": "python3"
  },
  "language_info": {
   "codemirror_mode": {
    "name": "ipython",
    "version": 3
   },
   "file_extension": ".py",
   "mimetype": "text/x-python",
   "name": "python",
   "nbconvert_exporter": "python",
   "pygments_lexer": "ipython3",
   "version": "3.6.5"
  }
 },
 "nbformat": 4,
 "nbformat_minor": 2
}

{
 "cells": [
  {
   "cell_type": "code",
   "execution_count": 9,
   "metadata": {},
   "outputs": [],
   "source": [
    "import os\n",
    "import en_utilities as um\n",
    "import pandas as pd"
   ]
  },
  {
   "cell_type": "code",
   "execution_count": 10,
   "metadata": {},
   "outputs": [],
   "source": [
    "base_path='C:\\\\Users\\\\z5044992\\\\Documents\\\\MainDATA\\\\DATA_EN_3\\\\studies'\n",
    "study = 'EN1_pv_bat1'\n",
    "i_path = os.path.join(base_path,study,'inputs')"
   ]
  },
  {
   "cell_type": "code",
   "execution_count": 11,
   "metadata": {},
   "outputs": [],
   "source": [
    "i_list = ['study_siteJ_bat4a.csv','study_siteJ_bat4b.csv','study_siteJ_bat4c.csv',\n",
    "         'study_siteJ_bat4d.csv','study_siteJ_bat4e.csv','study_siteJ_bat4f.csv']\n",
    "o_list = [f.replace('4','5') for f in i_list]"
   ]
  },
  {
   "cell_type": "code",
   "execution_count": 12,
   "metadata": {},
   "outputs": [],
   "source": [
    "old = 'evening_discharge_1'\n",
    "new = 'double_cycle_1'"
   ]
  },
  {
   "cell_type": "code",
   "execution_count": 14,
   "metadata": {},
   "outputs": [],
   "source": [
    "for i in range(len(i_list)):\n",
    "    name = i_list[i]\n",
    "    file = os.path.join(i_path,name)\n",
    "    df = pd.read_csv(file)\n",
    "    df = df.replace(old,new)\n",
    "    newname = o_list[i]\n",
    "    newfile = os.path.join(i_path,newname)\n",
    "    df.to_csv(newfile)"
   ]
  },
  {
   "cell_type": "code",
   "execution_count": null,
   "metadata": {},
   "outputs": [],
   "source": []
  }
 ],
 "metadata": {
  "kernelspec": {
   "display_name": "Python 3",
   "language": "python",
   "name": "python3"
  },
  "language_info": {
   "codemirror_mode": {
    "name": "ipython",
    "version": 3
   },
   "file_extension": ".py",
   "mimetype": "text/x-python",
   "name": "python",
   "nbconvert_exporter": "python",
   "pygments_lexer": "ipython3",
   "version": "3.6.5"
  }
 },
 "nbformat": 4,
 "nbformat_minor": 2
}

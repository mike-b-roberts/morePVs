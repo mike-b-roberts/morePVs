{
 "cells": [
  {
   "cell_type": "code",
   "execution_count": null,
   "metadata": {},
   "outputs": [],
   "source": [
    "import morePVs_output as opm\n",
    "import os\n",
    "import en_utilities as um\n",
    "import pandas as pd\n",
    "import shutil"
   ]
  },
  {
   "cell_type": "code",
   "execution_count": 2,
   "metadata": {},
   "outputs": [],
   "source": [
    "project='EN1_value_of_pv2'\n",
    "base_path='C:\\\\Users\\\\z5044992\\\\Documents\\\\MainDATA\\\\DATA_EN_3\\\\studies'\n",
    "i_path =os.path.join(base_path,project,'inputs')\n",
    "o_path =os.path.join(base_path,project,'outputs')\n",
    "short_name = 'value10'"
   ]
  },
  {
   "cell_type": "code",
   "execution_count": 3,
   "metadata": {},
   "outputs": [],
   "source": [
    "sites = ['A','E',  'D','B', 'H', 'I', 'G', 'C',  'J', 'F' ]\n",
    "tag_list = ['a208_f12_cp34',\n",
    " 'a161_f7_cp38',\n",
    " 'a138_f9_cp45',\n",
    " 'a104_f8_cp57',\n",
    " 'a52_f3_cp27',\n",
    " 'a48_f4_cp09',\n",
    " 'a44_f4_cp17',\n",
    " 'a34_f4_cp34',\n",
    " 'a26_f4_cp44',\n",
    " 'a20_f5_cp37']\n",
    "site_tags = dict(zip(sites, tag_list))"
   ]
  },
  {
   "cell_type": "code",
   "execution_count": 4,
   "metadata": {},
   "outputs": [
    {
     "name": "stdout",
     "output_type": "stream",
     "text": [
      "A siteA_value10\n"
     ]
    },
    {
     "ename": "FileNotFoundError",
     "evalue": "File b'C:\\\\Users\\\\z5044992\\\\Documents\\\\MainDATA\\\\DATA_EN_3\\\\studies\\\\EN1_value_of_pv2\\\\outputs\\\\siteA_value10\\\\siteA_value10_results.csv' does not exist",
     "traceback": [
      "\u001b[1;31m---------------------------------------------------------------------------\u001b[0m",
      "\u001b[1;31mFileNotFoundError\u001b[0m                         Traceback (most recent call last)",
      "\u001b[1;32m<ipython-input-4-40dc08bf39dc>\u001b[0m in \u001b[0;36m<module>\u001b[1;34m()\u001b[0m\n\u001b[0;32m      8\u001b[0m     op = opm.Output(base_path = base_path,\n\u001b[0;32m      9\u001b[0m                           \u001b[0mproject\u001b[0m \u001b[1;33m=\u001b[0m \u001b[0mproject\u001b[0m\u001b[1;33m,\u001b[0m\u001b[1;33m\u001b[0m\u001b[0m\n\u001b[1;32m---> 10\u001b[1;33m                           study_name = study)\n\u001b[0m\u001b[0;32m     11\u001b[0m     \u001b[0mself\u001b[0m \u001b[1;33m=\u001b[0m \u001b[0mop\u001b[0m\u001b[1;33m\u001b[0m\u001b[0m\n\u001b[0;32m     12\u001b[0m     \u001b[0mdfp\u001b[0m \u001b[1;33m=\u001b[0m \u001b[0mself\u001b[0m\u001b[1;33m.\u001b[0m\u001b[0mstudy_parameters\u001b[0m\u001b[1;33m\u001b[0m\u001b[0m\n",
      "\u001b[1;32mC:\\PYTHONprojects\\en\\morePVs_output.py\u001b[0m in \u001b[0;36m__init__\u001b[1;34m(self, project, study_name, base_path)\u001b[0m\n\u001b[0;32m     42\u001b[0m         \u001b[1;31m# read results file\u001b[0m\u001b[1;33m\u001b[0m\u001b[1;33m\u001b[0m\u001b[0m\n\u001b[0;32m     43\u001b[0m         \u001b[0mresultsFile\u001b[0m \u001b[1;33m=\u001b[0m \u001b[0mos\u001b[0m\u001b[1;33m.\u001b[0m\u001b[0mpath\u001b[0m\u001b[1;33m.\u001b[0m\u001b[0mjoin\u001b[0m\u001b[1;33m(\u001b[0m\u001b[0mself\u001b[0m\u001b[1;33m.\u001b[0m\u001b[0moutput_path\u001b[0m\u001b[1;33m,\u001b[0m\u001b[0mself\u001b[0m\u001b[1;33m.\u001b[0m\u001b[0mstudy_name\u001b[0m\u001b[1;33m+\u001b[0m\u001b[1;34m'_results.csv'\u001b[0m\u001b[1;33m)\u001b[0m\u001b[1;33m\u001b[0m\u001b[0m\n\u001b[1;32m---> 44\u001b[1;33m         \u001b[0mself\u001b[0m\u001b[1;33m.\u001b[0m\u001b[0mdata\u001b[0m \u001b[1;33m=\u001b[0m \u001b[0mpd\u001b[0m\u001b[1;33m.\u001b[0m\u001b[0mread_csv\u001b[0m\u001b[1;33m(\u001b[0m\u001b[0mresultsFile\u001b[0m\u001b[1;33m)\u001b[0m\u001b[1;33m\u001b[0m\u001b[0m\n\u001b[0m\u001b[0;32m     45\u001b[0m         \u001b[0mself\u001b[0m\u001b[1;33m.\u001b[0m\u001b[0mdata\u001b[0m \u001b[1;33m=\u001b[0m \u001b[0mself\u001b[0m\u001b[1;33m.\u001b[0m\u001b[0mdata\u001b[0m\u001b[1;33m.\u001b[0m\u001b[0mset_index\u001b[0m\u001b[1;33m(\u001b[0m\u001b[1;34m'scenario'\u001b[0m\u001b[1;33m)\u001b[0m\u001b[1;33m\u001b[0m\u001b[0m\n\u001b[0;32m     46\u001b[0m \u001b[1;33m\u001b[0m\u001b[0m\n",
      "\u001b[1;32m~\\AppData\\Local\\Continuum\\anaconda3\\lib\\site-packages\\pandas\\io\\parsers.py\u001b[0m in \u001b[0;36mparser_f\u001b[1;34m(filepath_or_buffer, sep, delimiter, header, names, index_col, usecols, squeeze, prefix, mangle_dupe_cols, dtype, engine, converters, true_values, false_values, skipinitialspace, skiprows, nrows, na_values, keep_default_na, na_filter, verbose, skip_blank_lines, parse_dates, infer_datetime_format, keep_date_col, date_parser, dayfirst, iterator, chunksize, compression, thousands, decimal, lineterminator, quotechar, quoting, escapechar, comment, encoding, dialect, tupleize_cols, error_bad_lines, warn_bad_lines, skipfooter, doublequote, delim_whitespace, low_memory, memory_map, float_precision)\u001b[0m\n\u001b[0;32m    676\u001b[0m                     skip_blank_lines=skip_blank_lines)\n\u001b[0;32m    677\u001b[0m \u001b[1;33m\u001b[0m\u001b[0m\n\u001b[1;32m--> 678\u001b[1;33m         \u001b[1;32mreturn\u001b[0m \u001b[0m_read\u001b[0m\u001b[1;33m(\u001b[0m\u001b[0mfilepath_or_buffer\u001b[0m\u001b[1;33m,\u001b[0m \u001b[0mkwds\u001b[0m\u001b[1;33m)\u001b[0m\u001b[1;33m\u001b[0m\u001b[0m\n\u001b[0m\u001b[0;32m    679\u001b[0m \u001b[1;33m\u001b[0m\u001b[0m\n\u001b[0;32m    680\u001b[0m     \u001b[0mparser_f\u001b[0m\u001b[1;33m.\u001b[0m\u001b[0m__name__\u001b[0m \u001b[1;33m=\u001b[0m \u001b[0mname\u001b[0m\u001b[1;33m\u001b[0m\u001b[0m\n",
      "\u001b[1;32m~\\AppData\\Local\\Continuum\\anaconda3\\lib\\site-packages\\pandas\\io\\parsers.py\u001b[0m in \u001b[0;36m_read\u001b[1;34m(filepath_or_buffer, kwds)\u001b[0m\n\u001b[0;32m    438\u001b[0m \u001b[1;33m\u001b[0m\u001b[0m\n\u001b[0;32m    439\u001b[0m     \u001b[1;31m# Create the parser.\u001b[0m\u001b[1;33m\u001b[0m\u001b[1;33m\u001b[0m\u001b[0m\n\u001b[1;32m--> 440\u001b[1;33m     \u001b[0mparser\u001b[0m \u001b[1;33m=\u001b[0m \u001b[0mTextFileReader\u001b[0m\u001b[1;33m(\u001b[0m\u001b[0mfilepath_or_buffer\u001b[0m\u001b[1;33m,\u001b[0m \u001b[1;33m**\u001b[0m\u001b[0mkwds\u001b[0m\u001b[1;33m)\u001b[0m\u001b[1;33m\u001b[0m\u001b[0m\n\u001b[0m\u001b[0;32m    441\u001b[0m \u001b[1;33m\u001b[0m\u001b[0m\n\u001b[0;32m    442\u001b[0m     \u001b[1;32mif\u001b[0m \u001b[0mchunksize\u001b[0m \u001b[1;32mor\u001b[0m \u001b[0miterator\u001b[0m\u001b[1;33m:\u001b[0m\u001b[1;33m\u001b[0m\u001b[0m\n",
      "\u001b[1;32m~\\AppData\\Local\\Continuum\\anaconda3\\lib\\site-packages\\pandas\\io\\parsers.py\u001b[0m in \u001b[0;36m__init__\u001b[1;34m(self, f, engine, **kwds)\u001b[0m\n\u001b[0;32m    785\u001b[0m             \u001b[0mself\u001b[0m\u001b[1;33m.\u001b[0m\u001b[0moptions\u001b[0m\u001b[1;33m[\u001b[0m\u001b[1;34m'has_index_names'\u001b[0m\u001b[1;33m]\u001b[0m \u001b[1;33m=\u001b[0m \u001b[0mkwds\u001b[0m\u001b[1;33m[\u001b[0m\u001b[1;34m'has_index_names'\u001b[0m\u001b[1;33m]\u001b[0m\u001b[1;33m\u001b[0m\u001b[0m\n\u001b[0;32m    786\u001b[0m \u001b[1;33m\u001b[0m\u001b[0m\n\u001b[1;32m--> 787\u001b[1;33m         \u001b[0mself\u001b[0m\u001b[1;33m.\u001b[0m\u001b[0m_make_engine\u001b[0m\u001b[1;33m(\u001b[0m\u001b[0mself\u001b[0m\u001b[1;33m.\u001b[0m\u001b[0mengine\u001b[0m\u001b[1;33m)\u001b[0m\u001b[1;33m\u001b[0m\u001b[0m\n\u001b[0m\u001b[0;32m    788\u001b[0m \u001b[1;33m\u001b[0m\u001b[0m\n\u001b[0;32m    789\u001b[0m     \u001b[1;32mdef\u001b[0m \u001b[0mclose\u001b[0m\u001b[1;33m(\u001b[0m\u001b[0mself\u001b[0m\u001b[1;33m)\u001b[0m\u001b[1;33m:\u001b[0m\u001b[1;33m\u001b[0m\u001b[0m\n",
      "\u001b[1;32m~\\AppData\\Local\\Continuum\\anaconda3\\lib\\site-packages\\pandas\\io\\parsers.py\u001b[0m in \u001b[0;36m_make_engine\u001b[1;34m(self, engine)\u001b[0m\n\u001b[0;32m   1012\u001b[0m     \u001b[1;32mdef\u001b[0m \u001b[0m_make_engine\u001b[0m\u001b[1;33m(\u001b[0m\u001b[0mself\u001b[0m\u001b[1;33m,\u001b[0m \u001b[0mengine\u001b[0m\u001b[1;33m=\u001b[0m\u001b[1;34m'c'\u001b[0m\u001b[1;33m)\u001b[0m\u001b[1;33m:\u001b[0m\u001b[1;33m\u001b[0m\u001b[0m\n\u001b[0;32m   1013\u001b[0m         \u001b[1;32mif\u001b[0m \u001b[0mengine\u001b[0m \u001b[1;33m==\u001b[0m \u001b[1;34m'c'\u001b[0m\u001b[1;33m:\u001b[0m\u001b[1;33m\u001b[0m\u001b[0m\n\u001b[1;32m-> 1014\u001b[1;33m             \u001b[0mself\u001b[0m\u001b[1;33m.\u001b[0m\u001b[0m_engine\u001b[0m \u001b[1;33m=\u001b[0m \u001b[0mCParserWrapper\u001b[0m\u001b[1;33m(\u001b[0m\u001b[0mself\u001b[0m\u001b[1;33m.\u001b[0m\u001b[0mf\u001b[0m\u001b[1;33m,\u001b[0m \u001b[1;33m**\u001b[0m\u001b[0mself\u001b[0m\u001b[1;33m.\u001b[0m\u001b[0moptions\u001b[0m\u001b[1;33m)\u001b[0m\u001b[1;33m\u001b[0m\u001b[0m\n\u001b[0m\u001b[0;32m   1015\u001b[0m         \u001b[1;32melse\u001b[0m\u001b[1;33m:\u001b[0m\u001b[1;33m\u001b[0m\u001b[0m\n\u001b[0;32m   1016\u001b[0m             \u001b[1;32mif\u001b[0m \u001b[0mengine\u001b[0m \u001b[1;33m==\u001b[0m \u001b[1;34m'python'\u001b[0m\u001b[1;33m:\u001b[0m\u001b[1;33m\u001b[0m\u001b[0m\n",
      "\u001b[1;32m~\\AppData\\Local\\Continuum\\anaconda3\\lib\\site-packages\\pandas\\io\\parsers.py\u001b[0m in \u001b[0;36m__init__\u001b[1;34m(self, src, **kwds)\u001b[0m\n\u001b[0;32m   1706\u001b[0m         \u001b[0mkwds\u001b[0m\u001b[1;33m[\u001b[0m\u001b[1;34m'usecols'\u001b[0m\u001b[1;33m]\u001b[0m \u001b[1;33m=\u001b[0m \u001b[0mself\u001b[0m\u001b[1;33m.\u001b[0m\u001b[0musecols\u001b[0m\u001b[1;33m\u001b[0m\u001b[0m\n\u001b[0;32m   1707\u001b[0m \u001b[1;33m\u001b[0m\u001b[0m\n\u001b[1;32m-> 1708\u001b[1;33m         \u001b[0mself\u001b[0m\u001b[1;33m.\u001b[0m\u001b[0m_reader\u001b[0m \u001b[1;33m=\u001b[0m \u001b[0mparsers\u001b[0m\u001b[1;33m.\u001b[0m\u001b[0mTextReader\u001b[0m\u001b[1;33m(\u001b[0m\u001b[0msrc\u001b[0m\u001b[1;33m,\u001b[0m \u001b[1;33m**\u001b[0m\u001b[0mkwds\u001b[0m\u001b[1;33m)\u001b[0m\u001b[1;33m\u001b[0m\u001b[0m\n\u001b[0m\u001b[0;32m   1709\u001b[0m \u001b[1;33m\u001b[0m\u001b[0m\n\u001b[0;32m   1710\u001b[0m         \u001b[0mpassed_names\u001b[0m \u001b[1;33m=\u001b[0m \u001b[0mself\u001b[0m\u001b[1;33m.\u001b[0m\u001b[0mnames\u001b[0m \u001b[1;32mis\u001b[0m \u001b[1;32mNone\u001b[0m\u001b[1;33m\u001b[0m\u001b[0m\n",
      "\u001b[1;32mpandas/_libs/parsers.pyx\u001b[0m in \u001b[0;36mpandas._libs.parsers.TextReader.__cinit__\u001b[1;34m()\u001b[0m\n",
      "\u001b[1;32mpandas/_libs/parsers.pyx\u001b[0m in \u001b[0;36mpandas._libs.parsers.TextReader._setup_parser_source\u001b[1;34m()\u001b[0m\n",
      "\u001b[1;31mFileNotFoundError\u001b[0m: File b'C:\\\\Users\\\\z5044992\\\\Documents\\\\MainDATA\\\\DATA_EN_3\\\\studies\\\\EN1_value_of_pv2\\\\outputs\\\\siteA_value10\\\\siteA_value10_results.csv' does not exist"
     ],
     "output_type": "error"
    }
   ],
   "source": [
    "# Combine input files\n",
    "df_comb = pd.DataFrame()\n",
    "studies = [s for s in os.listdir(i_path) if '.csv' in s and short_name in s and 'combined' not in s]\n",
    "for st in studies:\n",
    "    site = um.find_between(st,'site', '_')\n",
    "    study = um.find_between(st,'study_','.csv')\n",
    "    print(site, study)\n",
    "    op = opm.Output(base_path = base_path,\n",
    "                          project = project,\n",
    "                          study_name = study)\n",
    "    self = op\n",
    "    dfp = self.study_parameters\n",
    "    dfp['site_tag']= site_tags[site]\n",
    "    dfp['ns'] = dfp.index\n",
    "    dfp['ns'] = dfp['ns'].apply(lambda x : site + str(x))\n",
    "    dfp = dfp.set_index(['ns'])\n",
    "    dfp.index.name='scenario'\n",
    "    \n",
    "    \n",
    "    df_comb = df_comb.append(dfp)\n",
    "\n",
    "comb = os.path.join(i_path, 'study_combined_'+short_name+'.csv')\n",
    "um.df_to_csv(df_comb, comb)"
   ]
  },
  {
   "cell_type": "code",
   "execution_count": null,
   "metadata": {},
   "outputs": [],
   "source": [
    "# Combine output files \n",
    "\n",
    "studies = [s for s in os.listdir(i_path) if '.csv' in s and short_name in s and 'combined' not in s]\n",
    "comb_dir = os.path.join(o_path,'combined_' +short_name)\n",
    "if not os.path.exists(comb_dir):\n",
    "                     os.makedirs(comb_dir)\n",
    "        \n",
    "comb_scen_dir = os.path.join(comb_dir,'scenarios')\n",
    "if not os.path.exists(comb_scen_dir):\n",
    "                     os.makedirs(comb_scen_dir)\n",
    "dfc_comb = pd.DataFrame()\n",
    "dfr_comb = pd.DataFrame()\n",
    "dfs_comb = pd.DataFrame()\n",
    "\n",
    "\n",
    "for st in studies:\n",
    "    site = um.find_between(st,'site', '_')\n",
    "    study = um.find_between(st,'study_','.csv')\n",
    "    folder = os.path.join(o_path,study)\n",
    "    print(site, study)\n",
    "    op = opm.Output(base_path = base_path,\n",
    "                          project = project,\n",
    "                          study_name = study)\n",
    "    self = op\n",
    "    files = [f for f in os.listdir(folder) if '.csv' in f]\n",
    "    fcr  = os.path.join(folder,[f for f in files if 'customer_results' in f][0])\n",
    "    fstd  = os.path.join(folder, [f for f in files if 'results_std' in f][0])\n",
    "    fr  = os.path.join(folder, [f for f in files if not ('customer_results' in f or 'results_std' in f)][0])\n",
    "    \n",
    "    dfc=pd.read_csv(fcr)\n",
    "    dfs=pd.read_csv(fstd)\n",
    "    dfr=pd.read_csv(fr) \n",
    "\n",
    "    dfc['ns'] = dfc.scenario\n",
    "    dfc['ns'] = dfc['ns'].apply(lambda x : site + str(x))\n",
    "    dfc = dfc.set_index(['ns'])    \n",
    "    dfc_comb = dfc_comb.append(dfc)\n",
    "    dfc.index.name='scenario'\n",
    "    \n",
    "    dfr['ns'] = dfr.scenario\n",
    "    dfr['ns'] = dfr['ns'].apply(lambda x : site + str(x))\n",
    "    dfr = dfr.set_index(['ns'])    \n",
    "    dfr_comb = dfr_comb.append(dfr)\n",
    "    dfr.index.name='scenario'\n",
    "    \n",
    "    dfs['ns'] = dfs.scenario\n",
    "    dfs['ns'] = dfs['ns'].apply(lambda x : site + str(x))\n",
    "    dfs = dfs.set_index(['ns'])    \n",
    "    dfs_comb = dfs_comb.append(dfs)\n",
    "    dfs.index.name='scenario'\n",
    "    \n",
    "    scen_dir = os.path.join(folder,'scenarios')\n",
    "\n",
    "    for file in os.listdir(scen_dir):\n",
    "        old = os.path.join(scen_dir,file)\n",
    "        new = os.path.join(comb_scen_dir,file)\n",
    "        shutil.copy(old,new)\n",
    "        \n",
    "dfr_comb = dfr_comb.drop('scenario', axis=1)\n",
    "dfr_comb.index.name='scenario'\n",
    "dfc_comb = dfc_comb.drop('scenario', axis=1)\n",
    "dfc_comb.index.name='scenario'\n",
    "dfs_comb = dfs_comb.drop('scenario', axis=1)\n",
    "dfs_comb.index.name='scenario'\n",
    "        \n",
    "cr = os.path.join(comb_dir, 'combined_' + short_name + '_results.csv')\n",
    "um.df_to_csv(dfr_comb, cr)\n",
    "\n",
    "cc = os.path.join(comb_dir, 'combined_' + short_name + '_customer_results.csv')\n",
    "um.df_to_csv(dfc_comb, cc)\n",
    "\n",
    "cs = os.path.join(comb_dir, 'combined_' + short_name + '_std_dev.csv')\n",
    "um.df_to_csv(dfs_comb, cs)\n",
    "print(\"**Complete**\")"
   ]
  },
  {
   "cell_type": "code",
   "execution_count": null,
   "metadata": {},
   "outputs": [],
   "source": []
  }
 ],
 "metadata": {
  "kernelspec": {
   "display_name": "Python 3",
   "language": "python",
   "name": "python3"
  },
  "language_info": {
   "codemirror_mode": {
    "name": "ipython",
    "version": 3
   },
   "file_extension": ".py",
   "mimetype": "text/x-python",
   "name": "python",
   "nbconvert_exporter": "python",
   "pygments_lexer": "ipython3",
   "version": "3.6.5"
  }
 },
 "nbformat": 4,
 "nbformat_minor": 1
}

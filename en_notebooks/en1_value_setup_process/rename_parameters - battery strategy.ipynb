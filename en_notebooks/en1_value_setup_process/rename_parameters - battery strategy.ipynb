{
 "cells": [
  {
   "cell_type": "markdown",
   "metadata": {
    "collapsed": true
   },
   "source": [
    "Goes through EN input and output files renaming a parameter"
   ]
  },
  {
   "cell_type": "code",
   "execution_count": 5,
   "metadata": {},
   "outputs": [],
   "source": [
    "import sys\n",
    "sys.path.append('C:\\\\PYTHONprojects\\\\en')\n",
    "sys.path.append('C:\\\\PYTHONprojects')\n",
    "sys.path.append('C:\\\\PYTHONprojects\\\\utilities')\n",
    "import os\n",
    "import os.path\n",
    "import en_utilities as um\n",
    "import pandas as pd\n",
    "import logging\n"
   ]
  },
  {
   "cell_type": "code",
   "execution_count": 10,
   "metadata": {},
   "outputs": [],
   "source": [
    "base_path='C:\\\\Users\\\\z5044992\\\\Documents\\\\MainDATA\\\\DATA_EN_4\\\\studies\\\\EN2_bat2'\n"
   ]
  },
  {
   "cell_type": "code",
   "execution_count": 11,
   "metadata": {},
   "outputs": [],
   "source": [
    "old = ['ed1_17',\n",
    "'ed2_17',\n",
    "'ed3_17',\n",
    "'ed1_1730',\n",
    "'ed2_1730',\n",
    "'ed3_1730',\n",
    "'ed1_s_18',\n",
    "'ed1_s_17',\n",
    "'ed2_s_18',\n",
    "'ed2_s_17',\n",
    "'ed1_s_17_ch',\n",
    "'ed1_s_16_ch']\n",
    "\n",
    "\n",
    "new = ['ed1700_cmax',\n",
    "'ed1700_c25',\n",
    "'ed1700_c10',\n",
    "'ed1730_cmax',\n",
    "'ed1730_c25',\n",
    "'ed1730_c10',\n",
    "'ed1800_s_cmax',\n",
    "'ed1700_s_cmax',\n",
    "'ed1800_s_c25',\n",
    "'ed1700_s_c25',\n",
    "'ch_ed1700_s_cmax',\n",
    "'ch_ed1600_s_cmax']\n",
    "\n",
    "swaps = dict(zip(old,new))\n"
   ]
  },
  {
   "cell_type": "code",
   "execution_count": 12,
   "metadata": {},
   "outputs": [],
   "source": [
    "# set up script logging\n",
    "pyname = \"rename_parameters\"\n",
    "um.setup_logging(pyname, label = \"swapping capex\")"
   ]
  },
  {
   "cell_type": "code",
   "execution_count": 14,
   "metadata": {},
   "outputs": [],
   "source": [
    "# Directory Walker 1\n",
    "for dirpath, dirnames, filenames in os.walk(base_path):\n",
    "    if not 'scenarios' in dirpath \\\n",
    "    and not 'timeseries' in dirpath \\\n",
    "    and not 'saved_tariffs'  in dirpath\\\n",
    "    and not 'archive'  in dirpath\\\n",
    "    and not 'pv'  in dirpath:\n",
    "        for filename in [f for f in filenames if f.endswith(\".csv\")]:\n",
    "            fpath = (os.path.join(dirpath, filename))\n",
    "            df= pd.read_csv(fpath,index_col=[0])\n",
    "            logging.info(fpath)\n",
    "            for o in old:\n",
    "                df = df.replace(o,swaps[o])\n",
    "            df.to_csv(fpath)\n",
    "\n"
   ]
  },
  {
   "cell_type": "code",
   "execution_count": null,
   "metadata": {},
   "outputs": [],
   "source": [
    "# Now delete additional columns where they have been added. whoops\n",
    "#base_path='C:\\\\Users\\\\z5044992\\\\Documents\\\\MainDATA\\\\DATA_EN_3\\\\studies'"
   ]
  },
  {
   "cell_type": "code",
   "execution_count": null,
   "metadata": {},
   "outputs": [],
   "source": [
    "#for dirpath, dirnames, filenames in os.walk(base_path):\n",
    "#    if not 'scenarios' in dirpath and not 'timeseries' in dirpath:\n",
    "#        for filename in [f for f in filenames if f.endswith(\".csv\")]:#            fpath = (os.path.join(dirpath, filename))\n",
    "#            df= pd.read_csv(fpath,index_col=[0])\n",
    " #           logging.info(fpath)\n",
    "  #          flag = False\n",
    "   #         col = df.columns[0]\n",
    "#            if (df.index == df[col]).all():\n",
    "#                flag = True\n",
    "#            if flag:\n",
    "#                df= df.set_index(col)\n",
    "#            um.df_to_csv(df,fpath)"
   ]
  },
  {
   "cell_type": "code",
   "execution_count": null,
   "metadata": {},
   "outputs": [],
   "source": [
    "fpath = 'C:\\\\Users\\\\z5044992\\\\Documents\\\\MainDATA\\\\DATA_EN_3\\\\studies\\\\p_testing\\\\tests\\\\imp2.csv'\n",
    "df= pd.read_csv(fpath,index_col=[0])\n",
    "flag = False\n",
    "col = df.columns[0]\n",
    "\n",
    "if (df.index == df[col]).all():\n",
    "    flag = True\n",
    "if flag:\n",
    "    df= df.set_index(col)"
   ]
  },
  {
   "cell_type": "code",
   "execution_count": null,
   "metadata": {},
   "outputs": [],
   "source": [
    "df"
   ]
  },
  {
   "cell_type": "code",
   "execution_count": null,
   "metadata": {},
   "outputs": [],
   "source": [
    "df.index[1]\n"
   ]
  },
  {
   "cell_type": "code",
   "execution_count": null,
   "metadata": {},
   "outputs": [],
   "source": [
    "for i in range(len(i_list)):\n",
    "    name = i_list[i]\n",
    "    file = os.path.join(i_path,name)\n",
    "    df = pd.read_csv(file)\n",
    "    df = df.replace(old,new)\n",
    "    newname = o_list[i]\n",
    "    newfile = os.path.join(i_path,newname)\n",
    "    df.to_csv(newfile)"
   ]
  }
 ],
 "metadata": {
  "kernelspec": {
   "display_name": "Python 3",
   "language": "python",
   "name": "python3"
  },
  "language_info": {
   "codemirror_mode": {
    "name": "ipython",
    "version": 3
   },
   "file_extension": ".py",
   "mimetype": "text/x-python",
   "name": "python",
   "nbconvert_exporter": "python",
   "pygments_lexer": "ipython3",
   "version": "3.6.5"
  }
 },
 "nbformat": 4,
 "nbformat_minor": 1
}

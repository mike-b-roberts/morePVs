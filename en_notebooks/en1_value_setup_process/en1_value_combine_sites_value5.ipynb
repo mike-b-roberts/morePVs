{
 "cells": [
  {
   "cell_type": "code",
   "execution_count": null,
   "metadata": {},
   "outputs": [],
   "source": [
    "import morePVs_output as opm\n",
    "import os\n",
    "import en_utilities as um\n",
    "import pandas as pd\n",
    "import shutil"
   ]
  },
  {
   "cell_type": "code",
   "execution_count": 2,
   "metadata": {},
   "outputs": [],
   "source": [
    "project='EN1_value_of_pv2'\n",
    "base_path='C:\\\\Users\\\\z5044992\\\\Documents\\\\MainDATA\\\\DATA_EN_3\\\\studies'\n",
    "i_path =os.path.join(base_path,project,'inputs')\n",
    "o_path =os.path.join(base_path,project,'outputs')\n",
    "short_name = 'value5'"
   ]
  },
  {
   "cell_type": "code",
   "execution_count": 3,
   "metadata": {},
   "outputs": [
    {
     "data": {
      "text/plain": [
       "{'A': 'a208_f12_cp34',\n",
       " 'B': 'a104_f8_cp57',\n",
       " 'C': 'a34_f4_cp34',\n",
       " 'D': 'a138_f9_cp45',\n",
       " 'E': 'a161_f7_cp38',\n",
       " 'F': 'a20_f5_cp37',\n",
       " 'G': 'a44_f4_cp17',\n",
       " 'H': 'a52_f3_cp27',\n",
       " 'I': 'a48_f4_cp09',\n",
       " 'J': 'a26_f4_cp44'}"
      ]
     },
     "execution_count": 3,
     "metadata": {},
     "output_type": "execute_result"
    }
   ],
   "source": [
    "#Set up site tags\n",
    "# -----------------\n",
    "sites=['A','E','D','B','H','I','G','C','J','F']\n",
    "floors = {'A':12,'E':7, 'D':9,'B':8,'H':3,'I':4,'G':4,'C':4,'J':4,'F':5}\n",
    "numhouses={'A':208,'E':161, 'D':138,'B':104,'H':52,'I':48,'G':44,'C':34,'J':26,'F':20}\n",
    "f = ('C:\\\\Users\\\\z5044992\\\\Documents\\\\MainDATA\\\\DATA_EN_3\\\\studies\\\\EN1_value_of_pv\\\\outputs\\\\combined_value4\\\\combined_value4_results.csv')\n",
    "df= pd.read_csv(f)\n",
    "cp=[]\n",
    "for s in sites:\n",
    "    cp.append(\"%02d\" % int(df[df['ns']==s+str(1)].cp_ratio_mean.values[0]))\n",
    "site_cp = dict(zip(sites,cp))\n",
    "site_cp\n",
    "tags = ['a'+ str(numhouses[s])+'_f'+ str(floors[s])+ '_cp' + site_cp[s] for s in sites]\n",
    "site_tags= dict(zip(sites, tags))\n",
    "site_tags\n"
   ]
  },
  {
   "cell_type": "code",
   "execution_count": 4,
   "metadata": {},
   "outputs": [
    {
     "name": "stdout",
     "output_type": "stream",
     "text": [
      "A siteA_value5\n",
      "B siteB_value5\n",
      "C siteC_value5\n",
      "D siteD_value5\n",
      "E siteE_value5\n",
      "F siteF_value5\n",
      "G siteG_value5\n",
      "H siteH_value5\n",
      "I siteI_value5\n",
      "J siteJ_value5\n"
     ]
    }
   ],
   "source": [
    "# Combine input files\n",
    "df_comb = pd.DataFrame()\n",
    "studies = [s for s in os.listdir(i_path) if '.csv' in s and short_name in s and 'combined' not in s]\n",
    "for st in studies:\n",
    "    site = um.find_between(st,'site', '_')\n",
    "    study = um.find_between(st,'study_','.csv')\n",
    "    print(site, study)\n",
    "    op = opm.Output(base_path = base_path,\n",
    "                          project = project,\n",
    "                          study_name = study)\n",
    "    self = op\n",
    "    dfp = self.study_parameters\n",
    "    dfp['site_tag']= site_tags[site]\n",
    "    dfp['ns'] = dfp.index\n",
    "    dfp['ns'] = dfp['ns'].apply(lambda x : site + str(x))\n",
    "    dfp = dfp.set_index(['ns'])\n",
    "    dfp.index.name='scenario'\n",
    "    \n",
    "    \n",
    "    df_comb = df_comb.append(dfp)\n",
    "\n",
    "comb = os.path.join(i_path, 'study_combined_'+short_name+'.csv')\n",
    "um.df_to_csv(df_comb, comb)"
   ]
  },
  {
   "cell_type": "code",
   "execution_count": 5,
   "metadata": {},
   "outputs": [
    {
     "name": "stdout",
     "output_type": "stream",
     "text": [
      "A siteA_value5\n",
      "B siteB_value5\n",
      "C siteC_value5\n",
      "D siteD_value5\n",
      "E siteE_value5\n",
      "F siteF_value5\n",
      "G siteG_value5\n",
      "H siteH_value5\n",
      "I siteI_value5\n",
      "J siteJ_value5\n",
      "**Complete**\n"
     ]
    }
   ],
   "source": [
    "# Combine output files \n",
    "\n",
    "studies = [s for s in os.listdir(i_path) if '.csv' in s and short_name in s and 'combined' not in s]\n",
    "comb_dir = os.path.join(o_path,'combined_' +short_name)\n",
    "if not os.path.exists(comb_dir):\n",
    "                     os.makedirs(comb_dir)\n",
    "        \n",
    "comb_scen_dir = os.path.join(comb_dir,'scenarios')\n",
    "if not os.path.exists(comb_scen_dir):\n",
    "                     os.makedirs(comb_scen_dir)\n",
    "dfc_comb = pd.DataFrame()\n",
    "dfr_comb = pd.DataFrame()\n",
    "dfs_comb = pd.DataFrame()\n",
    "\n",
    "\n",
    "for st in studies:\n",
    "    site = um.find_between(st,'site', '_')\n",
    "    study = um.find_between(st,'study_','.csv')\n",
    "    folder = os.path.join(o_path,study)\n",
    "    print(site, study)\n",
    "    op = opm.Output(base_path = base_path,\n",
    "                          project = project,\n",
    "                          study_name = study)\n",
    "    self = op\n",
    "    files = [f for f in os.listdir(folder) if '.csv' in f]\n",
    "    fcr  = os.path.join(folder,[f for f in files if 'customer_results' in f][0])\n",
    "    fstd  = os.path.join(folder, [f for f in files if 'results_std' in f][0])\n",
    "    fr  = os.path.join(folder, [f for f in files if not ('customer_results' in f or 'results_std' in f)][0])\n",
    "    \n",
    "    dfc=pd.read_csv(fcr)\n",
    "    dfs=pd.read_csv(fstd)\n",
    "    dfr=pd.read_csv(fr) \n",
    "\n",
    "    dfc['ns'] = dfc.index\n",
    "    dfc['ns'] = dfc['ns'].apply(lambda x : site + str(x))\n",
    "    dfc = dfc.set_index(['ns'])    \n",
    "    dfc_comb = dfc_comb.append(dfc)\n",
    "    dfc.index.name='scenario'\n",
    "    \n",
    "    dfr['ns'] = dfr.index\n",
    "    dfr['ns'] = dfr['ns'].apply(lambda x : site + str(x))\n",
    "    dfr = dfr.set_index(['ns'])    \n",
    "    dfr_comb = dfr_comb.append(dfr)\n",
    "    dfr.index.name='scenario'\n",
    "    \n",
    "    dfs['ns'] = dfs.index\n",
    "    dfs['ns'] = dfs['ns'].apply(lambda x : site + str(x))\n",
    "    dfs = dfs.set_index(['ns'])    \n",
    "    dfs_comb = dfs_comb.append(dfs)\n",
    "    dfs.index.name='scenario'\n",
    "    \n",
    "    scen_dir = os.path.join(folder,'scenarios')\n",
    "\n",
    "    for file in os.listdir(scen_dir):\n",
    "        old = os.path.join(scen_dir,file)\n",
    "        new = os.path.join(comb_scen_dir,file)\n",
    "        shutil.copy(old,new)\n",
    "        \n",
    "dfr_comb = dfr_comb.drop('scenario', axis=1)\n",
    "dfr_comb.index.name='scenario'\n",
    "dfc_comb = dfc_comb.drop('scenario', axis=1)\n",
    "dfc_comb.index.name='scenario'\n",
    "dfs_comb = dfs_comb.drop('scenario', axis=1)\n",
    "dfs_comb.index.name='scenario'\n",
    "        \n",
    "cr = os.path.join(comb_dir, 'combined_' + short_name + '_results.csv')\n",
    "um.df_to_csv(dfr_comb, cr)\n",
    "\n",
    "cc = os.path.join(comb_dir, 'combined_' + short_name + '_customer_results.csv')\n",
    "um.df_to_csv(dfc_comb, cc)\n",
    "\n",
    "cs = os.path.join(comb_dir, 'combined_' + short_name + '_std_dev.csv')\n",
    "um.df_to_csv(dfs_comb, cs)\n",
    "print(\"**Complete**\")"
   ]
  },
  {
   "cell_type": "code",
   "execution_count": null,
   "metadata": {},
   "outputs": [],
   "source": []
  }
 ],
 "metadata": {
  "kernelspec": {
   "display_name": "Python 3",
   "language": "python",
   "name": "python3"
  },
  "language_info": {
   "codemirror_mode": {
    "name": "ipython",
    "version": 3
   },
   "file_extension": ".py",
   "mimetype": "text/x-python",
   "name": "python",
   "nbconvert_exporter": "python",
   "pygments_lexer": "ipython3",
   "version": "3.6.5"
  }
 },
 "nbformat": 4,
 "nbformat_minor": 1
}

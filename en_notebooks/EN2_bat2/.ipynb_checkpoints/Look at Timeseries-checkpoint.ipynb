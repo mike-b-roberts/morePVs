{
 "cells": [
  {
   "cell_type": "code",
   "execution_count": 1,
   "metadata": {},
   "outputs": [],
   "source": [
    "import morePVs_output as opm\n",
    "import morePVs as mpv\n",
    "import os\n",
    "import en_utilities as um\n",
    "import pandas as pd\n",
    "import numpy as np\n",
    "import matplotlib as mpl\n",
    "import matplotlib.pyplot as plt\n",
    "from mpl_toolkits.mplot3d import Axes3D\n",
    "import matplotlib.lines as mlines\n",
    "import matplotlib.dates as mdates\n",
    "import shutil\n",
    "import seaborn as sns"
   ]
  },
  {
   "cell_type": "code",
   "execution_count": 2,
   "metadata": {},
   "outputs": [],
   "source": [
    "project='EN2_bat2'\n",
    "study='bat_strat'\n",
    "base_path='C:\\\\Users\\\\z5044992\\\\Documents\\\\MainDATA\\\\DATA_EN_4\\\\studies'\n",
    "opath = os.path.join(base_path, project,'outputs', study)\n",
    "ts_path = os.path.join(opath,'timeseries')\n",
    "ipath =  os.path.join(base_path, project,'inputs')\n",
    "\n",
    "                     \n",
    "df = pd.read_csv(opath+'\\\\'+study+'_results.csv')\n",
    "dfi = pd.read_csv(ipath+'\\\\'+'study_'+ study+'.csv')\n",
    "lts = os.listdir(ts_path)\n",
    "\n",
    "# merge df and dfi\n",
    "df = df.merge(dfi,left_index = True, right_index=True)\n",
    "for c in df.columns:\n",
    "    if '_x' in c:\n",
    "        nc = c[:-2]\n",
    "        df.rename(columns={c:nc}, inplace=True)\n",
    "    if '_y' in c:\n",
    "        df= df.drop([c],axis=1)"
   ]
  },
  {
   "cell_type": "code",
   "execution_count": 3,
   "metadata": {},
   "outputs": [],
   "source": [
    "# get pv sizes for maximum pv systems\n",
    "# -----------------------------------\n",
    "maximums={}\n",
    "pv_ref_file='C:\\\\Users\\\\z5044992\\\\Documents\\\\MainDATA\\\\DATA_EN_3\\\\reference\\\\capex_pv_lookup.csv'\n",
    "pv_ref=pd.read_csv(pv_ref_file)\n",
    "pv_ref = pv_ref.set_index('pv_cap_id')\n",
    "for i in pv_ref.index:\n",
    "    if 'max' in i and 'site' in i:\n",
    "        site = um.find_between(i,'_','_')\n",
    "        maximums[site] = pv_ref.loc[i,'kW']"
   ]
  },
  {
   "cell_type": "markdown",
   "metadata": {},
   "source": [
    "__Look at:__\n",
    "`evening_discharge_1`\n",
    "* PV = 2.5kWp\n",
    "* kWh = 0,1,2\n",
    "* scenarios: 14, 55,57"
   ]
  },
  {
   "cell_type": "code",
   "execution_count": 317,
   "metadata": {},
   "outputs": [],
   "source": [
    "def plot_battery(df,\n",
    "                 plotfile,\n",
    "                 start_day=0,\n",
    "                 name ='',\n",
    "                 info=''\n",
    "                 ):\n",
    "    \"\"\"Plots timeseries data of pv, load, import, export and SOC.\"\"\"\n",
    "    \n",
    "\n",
    "    # Slice for 2 days starting at start_day\"\n",
    "    period = df.index[start_day*48:(start_day+2)*48]\n",
    "    df = df.loc[period]\n",
    "    # remove irrelevant / unnecessary columns:\n",
    "    if 'battery_charge_kWh' in df.columns:\n",
    "        df = df.drop(['battery_charge_kWh'], axis=1)\n",
    "    \n",
    "    cols = [c for c in df.columns if 'SOC' not in c and 'SOH' not in c]\n",
    "    cmap = mpl.cm.tab10\n",
    "    colourlist = [cmap(x) for x in range(len(cols))] \n",
    "        \n",
    "        \n",
    "    # if '_en_' in name:\n",
    "    #     df = df.drop(['sum_of_customer_imports','sum_of_customer_exports'], axis=1)\n",
    "    # if '_btm_' in name:\n",
    "    #     df = df.drop(['grid_import', 'grid_export'], axis=1)\n",
    "    max_kwh = df[cols].max().max()\n",
    "    fig, ax = plt.subplots()\n",
    "    df.index = pd.to_datetime(df.index)\n",
    "    for c in  cols:\n",
    "        ax.plot(df.index, df[c], label = c, color = colourlist[cols.index(c)])\n",
    "    if 'battery_SOC' in df.columns:\n",
    "        ax2 = ax.twinx()\n",
    "        ax2.plot(df.index, df['battery_SOC'], linestyle='--')\n",
    "        ax2.set_ylabel(\"Battery SOC %\")\n",
    "        ax2.set_ylim(0, 110)\n",
    "\n",
    "    if 'ind_battery_SOC' in df.columns:\n",
    "        ax2 = ax.twinx()\n",
    "        ax2.plot(df.index, df['ind_battery_SOC'], linestyle='--')\n",
    "        ax2.set_ylabel(\"Battery SOC %\")\n",
    "        ax2.set_ylim(0, 110)\n",
    "\n",
    "    ax.set_xlabel(\"Time\", fontsize=14)\n",
    "    ax.set_ylabel(\"kWh\", fontsize=14)\n",
    "    ax.grid(True)\n",
    "    ax.set_ylim(0, max_kwh)\n",
    "    ax.xaxis.set_major_locator(mdates.HourLocator(interval=2))\n",
    "    # set formatter\n",
    "    h_fmt = mdates.DateFormatter('%H')\n",
    "    ax.xaxis.set_major_formatter(h_fmt)\n",
    "    # set font and rotation for date tick labels\n",
    "    fig.autofmt_xdate(rotation=90)\n",
    "\n",
    "\n",
    "    \n",
    "\n",
    "    box = ax.get_position()\n",
    "    ax.set_position([box.x0, box.y0, box.width * 0.75, box.height])\n",
    "    ax2.set_position([box.x0, box.y0, box.width * 0.75, box.height])\n",
    "    # legend\n",
    "    # -------\n",
    "    # Create legend for colours\n",
    "    cline = {}\n",
    "    \n",
    "    for s in cols:\n",
    "        cline[s] = mlines.Line2D([],[],\n",
    "                                 color = cmap(cols.index(s)),\n",
    "                                 label=s)\n",
    "    handles = [cline[s] for s in cols]\n",
    "    leg = ax.legend(handles = handles,\n",
    "                    labels = cols, \n",
    "                    loc='upper left', bbox_to_anchor=(1.1, 1),\n",
    "                    prop={'size': 9})\n",
    "    ax.add_artist(leg)\n",
    "    \n",
    "    stuff = ax.text(1.1,0.2,info,transform=ax.transAxes,fontsize=10)\n",
    "    ax.add_artist(stuff)\n",
    "    plt.savefig(plotfile, dpi=1000, bbox_extra_artists=(leg,stuff,))\n",
    "    plt.close(fig)\n",
    "    return ax"
   ]
  },
  {
   "cell_type": "code",
   "execution_count": 318,
   "metadata": {},
   "outputs": [],
   "source": [
    "df['kWh_unit']=df['central_battery_capacity_kWh'].divide(df['number_of_households'])\n",
    "\n",
    "for s in df.index:\n",
    "    if df.fillna('zero').loc[s,'pv_filename'] == 'zero':\n",
    "                df.loc[s,'kWp_unit'] =0\n",
    "    elif 'max' in df.loc[s,'pv_filename']:\n",
    "        df.loc[s,'kWp_unit']= maximums[site]/df.loc[s,'number_of_households']\n",
    "    else:\n",
    "        df.loc[s,'kWp_unit'] = float(df.loc[s,'pv_filename'][7]) + float(df.loc[s,'pv_filename'][9])/10"
   ]
  },
  {
   "cell_type": "code",
   "execution_count": 319,
   "metadata": {},
   "outputs": [],
   "source": [
    "# Choose scenarios:\n",
    "kWp = [2.5]\n",
    "kWh = [0.0,1,2,3,4]\n",
    "strategies =['ed1','ed2','ed3', 'dc1', 'dc2', 'dc3']\n",
    "strat = {0:['']}\n",
    "strat.update({n:strategies for n in [1,2,3,4]})\n",
    "\n",
    "df['central_battery_strategy'] = df['central_battery_strategy'].fillna('')\n",
    "df['kWh_unit']=df['kWh_unit'].fillna(0)\n",
    "ts = {}\n",
    "tsname ={}\n",
    "information={}\n",
    "for p in kWp:\n",
    "    for h in kWh:\n",
    "        for s in strat[h]:\n",
    "            if h==0:\n",
    "                i = df.loc[(df['kWp_unit']==p)&\n",
    "                      (df['kWh_unit']==h)].index.values[0]\n",
    "            else:    \n",
    "                i = df.loc[(df['kWp_unit']==p)&\n",
    "                      (df['kWh_unit']==h)&\n",
    "                      (df['central_battery_strategy']==s)].index.values[0]\n",
    "            \n",
    "            tsname[i] = [n for n in lts if df.loc[i,'scenario_label'][10:] in n][0]\n",
    "            ts[i] = pd.read_csv(ts_path+'\\\\'+tsname[i])\n",
    "            ts[i] = ts[i].set_index('timestamp')\n",
    "            information[i] ='p= '+str(p) + 'h= '+ str(h)+ ' s= '+s"
   ]
  },
  {
   "cell_type": "code",
   "execution_count": 320,
   "metadata": {},
   "outputs": [
    {
     "data": {
      "application/javascript": [
       "IPython.OutputArea.prototype._should_scroll = function(lines) {\n",
       "    return false;\n",
       "}"
      ],
      "text/plain": [
       "<IPython.core.display.Javascript object>"
      ]
     },
     "metadata": {},
     "output_type": "display_data"
    }
   ],
   "source": [
    "%%javascript\n",
    "IPython.OutputArea.prototype._should_scroll = function(lines) {\n",
    "    return false;\n",
    "}"
   ]
  },
  {
   "cell_type": "code",
   "execution_count": 321,
   "metadata": {},
   "outputs": [],
   "source": [
    "# Drop superfluous parameters\n",
    "tsx={}\n",
    "for i in list(ts.keys()):\n",
    "    tsx[i] = ts[i].drop(['sum_of_customer_imports', 'sum_of_customer_exports'],axis=1)"
   ]
  },
  {
   "cell_type": "code",
   "execution_count": 322,
   "metadata": {},
   "outputs": [],
   "source": [
    "# Set up plot path\n",
    "ppath = os.path.join(opath, 'ts_plots')\n",
    "if not os.path.exists(ppath):\n",
    "    os.makedirs(ppath)"
   ]
  },
  {
   "cell_type": "code",
   "execution_count": 323,
   "metadata": {},
   "outputs": [],
   "source": [
    "\n",
    "\n",
    "for i in[34,62,90]:  #list(ts.keys()):\n",
    "    # Set up plot path\n",
    "    plotfile = os.path.join(ppath, tsname[i][0:10]+'.jpg')\n",
    "    ax = plot_battery(tsx[i],\n",
    "                 plotfile=plotfile,\n",
    "                 start_day=90,\n",
    "                 name =tsname[i],\n",
    "                 info = information[i])\n",
    "\n",
    "\n",
    "#   "
   ]
  },
  {
   "cell_type": "code",
   "execution_count": null,
   "metadata": {},
   "outputs": [],
   "source": []
  }
 ],
 "metadata": {
  "kernelspec": {
   "display_name": "Python 3",
   "language": "python",
   "name": "python3"
  },
  "language_info": {
   "codemirror_mode": {
    "name": "ipython",
    "version": 3
   },
   "file_extension": ".py",
   "mimetype": "text/x-python",
   "name": "python",
   "nbconvert_exporter": "python",
   "pygments_lexer": "ipython3",
   "version": "3.6.5"
  }
 },
 "nbformat": 4,
 "nbformat_minor": 2
}

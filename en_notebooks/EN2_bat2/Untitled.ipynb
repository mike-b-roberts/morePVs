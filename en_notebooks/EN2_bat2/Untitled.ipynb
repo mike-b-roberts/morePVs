{
 "cells": [
  {
   "cell_type": "code",
   "execution_count": 1,
   "metadata": {},
   "outputs": [],
   "source": [
    "p = 'C:\\\\Users\\\\z5044992\\\\Documents\\\\MainDATA\\\\DATA_EN_4\\\\load_profiles\\\\single_siteJ\\\\vb_site_sh_t_all_site_J_01.csv'\n",
    "import sys\n",
    "sys.path.append('C:\\\\PYTHONprojects\\\\en')\n",
    "sys.path.append('C:\\\\PYTHONprojects')\n",
    "sys.path.append('C:\\\\PYTHONprojects\\\\utilities')\n",
    "import morePVs_output as opm\n",
    "import os\n",
    "\n",
    "import en_utilities as um\n",
    "import pandas as pd\n",
    "import shutil"
   ]
  },
  {
   "cell_type": "code",
   "execution_count": 2,
   "metadata": {},
   "outputs": [],
   "source": [
    "df= pd.read_csv(p)\n"
   ]
  },
  {
   "cell_type": "code",
   "execution_count": 6,
   "metadata": {},
   "outputs": [],
   "source": [
    "df= df.set_index('timestamp')"
   ]
  },
  {
   "cell_type": "code",
   "execution_count": 7,
   "metadata": {},
   "outputs": [
    {
     "name": "stdout",
     "output_type": "stream",
     "text": [
      "78.971\n",
      "67286.94999999988\n",
      "8.53\n",
      "157219.53099999958\n"
     ]
    }
   ],
   "source": [
    "print(str(df.max().sum()))\n",
    "print(str(df.sum().max()))\n",
    "print(str(df.max().max()))\n",
    "print(str(df.sum().sum()))\n"
   ]
  },
  {
   "cell_type": "code",
   "execution_count": 9,
   "metadata": {},
   "outputs": [
    {
     "data": {
      "text/plain": [
       "23.827"
      ]
     },
     "execution_count": 9,
     "metadata": {},
     "output_type": "execute_result"
    }
   ],
   "source": [
    "df.sum(axis=1).max()"
   ]
  },
  {
   "cell_type": "code",
   "execution_count": null,
   "metadata": {},
   "outputs": [],
   "source": []
  }
 ],
 "metadata": {
  "kernelspec": {
   "display_name": "Python 3",
   "language": "python",
   "name": "python3"
  },
  "language_info": {
   "codemirror_mode": {
    "name": "ipython",
    "version": 3
   },
   "file_extension": ".py",
   "mimetype": "text/x-python",
   "name": "python",
   "nbconvert_exporter": "python",
   "pygments_lexer": "ipython3",
   "version": "3.6.5"
  }
 },
 "nbformat": 4,
 "nbformat_minor": 2
}
